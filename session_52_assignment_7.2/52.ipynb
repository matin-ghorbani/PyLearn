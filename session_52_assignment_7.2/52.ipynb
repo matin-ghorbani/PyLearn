{
  "cells": [
    {
      "cell_type": "markdown",
      "metadata": {
        "id": "W3fELRHyuUQl"
      },
      "source": [
        "## Import Dependencies"
      ]
    },
    {
      "cell_type": "code",
      "execution_count": 1,
      "metadata": {
        "id": "6A3rskotuaS1"
      },
      "outputs": [],
      "source": [
        "from keras.datasets import mnist, fashion_mnist, cifar10, cifar100\n",
        "from keras.models import Sequential\n",
        "from keras.layers import Dense, Conv2D, MaxPooling2D, Flatten\n",
        "from keras.optimizers import Adam\n",
        "from keras.activations import sigmoid, relu, softmax\n",
        "from keras.losses import sparse_categorical_crossentropy"
      ]
    },
    {
      "cell_type": "code",
      "execution_count": 2,
      "metadata": {
        "id": "yq9rM-BUvycV"
      },
      "outputs": [],
      "source": [
        "EPOCHS = 10"
      ]
    },
    {
      "cell_type": "markdown",
      "metadata": {
        "id": "nnovXFl4uQze"
      },
      "source": [
        "## Mnist Dataset"
      ]
    },
    {
      "cell_type": "code",
      "execution_count": null,
      "metadata": {
        "id": "GyDIJ6PMxMzf"
      },
      "outputs": [],
      "source": [
        "(x_train, y_train),(x_test, y_test) = mnist.load_data()\n",
        "x_train, x_test = x_train / 255.0, x_test / 255.0"
      ]
    },
    {
      "cell_type": "markdown",
      "metadata": {
        "id": "fOx3YJoMvt52"
      },
      "source": [
        "### MLP"
      ]
    },
    {
      "cell_type": "code",
      "execution_count": null,
      "metadata": {
        "colab": {
          "base_uri": "https://localhost:8080/"
        },
        "id": "s7lrMc6ltPD_",
        "outputId": "921fc21b-2310-4382-839a-6d206dfa5d1e"
      },
      "outputs": [
        {
          "name": "stdout",
          "output_type": "stream",
          "text": [
            "Mnist Dataset With MLP With 10 Epochs\n",
            "Epoch 1/10\n",
            "1875/1875 [==============================] - 5s 2ms/step - loss: 0.2634 - accuracy: 0.9258\n",
            "Epoch 2/10\n",
            "1875/1875 [==============================] - 5s 2ms/step - loss: 0.1165 - accuracy: 0.9660\n",
            "Epoch 3/10\n",
            "1875/1875 [==============================] - 5s 3ms/step - loss: 0.0787 - accuracy: 0.9765\n",
            "Epoch 4/10\n",
            "1875/1875 [==============================] - 6s 3ms/step - loss: 0.0589 - accuracy: 0.9819\n",
            "Epoch 5/10\n",
            "1875/1875 [==============================] - 6s 3ms/step - loss: 0.0459 - accuracy: 0.9855\n",
            "Epoch 6/10\n",
            "1875/1875 [==============================] - 5s 2ms/step - loss: 0.0354 - accuracy: 0.9890\n",
            "Epoch 7/10\n",
            "1875/1875 [==============================] - 5s 2ms/step - loss: 0.0288 - accuracy: 0.9913\n",
            "Epoch 8/10\n",
            "1875/1875 [==============================] - 5s 3ms/step - loss: 0.0236 - accuracy: 0.9927\n",
            "Epoch 9/10\n",
            "1875/1875 [==============================] - 5s 2ms/step - loss: 0.0188 - accuracy: 0.9940\n",
            "Epoch 10/10\n",
            "1875/1875 [==============================] - 5s 3ms/step - loss: 0.0150 - accuracy: 0.9953\n",
            "313/313 [==============================] - 1s 2ms/step - loss: 0.0817 - accuracy: 0.9794\n"
          ]
        },
        {
          "data": {
            "text/plain": [
              "[0.08168932795524597, 0.9793999791145325]"
            ]
          },
          "execution_count": 11,
          "metadata": {},
          "output_type": "execute_result"
        }
      ],
      "source": [
        "model = Sequential([\n",
        "  Flatten(input_shape=(28, 28)),\n",
        "  Dense(128, activation=relu),\n",
        "  Dense(10, activation=softmax)\n",
        "])\n",
        "\n",
        "model.compile(optimizer=Adam(), loss=sparse_categorical_crossentropy, metrics=['accuracy'])\n",
        "\n",
        "print(f'Mnist Dataset With MLP With {EPOCHS} Epochs')\n",
        "model.fit(x_train, y_train, epochs=EPOCHS)\n",
        "model.evaluate(x_test, y_test)"
      ]
    },
    {
      "cell_type": "markdown",
      "metadata": {
        "id": "vQ28ZknDyABD"
      },
      "source": [
        "### CNN + MLP"
      ]
    },
    {
      "cell_type": "code",
      "execution_count": null,
      "metadata": {
        "colab": {
          "base_uri": "https://localhost:8080/"
        },
        "id": "3OTAq7lW4nSR",
        "outputId": "43b4e2dc-664b-466f-cf05-ea5f7f6c4ef1"
      },
      "outputs": [
        {
          "name": "stdout",
          "output_type": "stream",
          "text": [
            "Mnist Dataset With CNN With 10 Epochs\n",
            "Epoch 1/10\n",
            "1875/1875 [==============================] - 9s 4ms/step - loss: 0.1349 - accuracy: 0.9589\n",
            "Epoch 2/10\n",
            "1875/1875 [==============================] - 7s 4ms/step - loss: 0.0437 - accuracy: 0.9868\n",
            "Epoch 3/10\n",
            "1875/1875 [==============================] - 8s 4ms/step - loss: 0.0311 - accuracy: 0.9906\n",
            "Epoch 4/10\n",
            "1875/1875 [==============================] - 7s 4ms/step - loss: 0.0236 - accuracy: 0.9925\n",
            "Epoch 5/10\n",
            "1875/1875 [==============================] - 8s 4ms/step - loss: 0.0200 - accuracy: 0.9934\n",
            "Epoch 6/10\n",
            "1875/1875 [==============================] - 8s 4ms/step - loss: 0.0165 - accuracy: 0.9944\n",
            "Epoch 7/10\n",
            "1875/1875 [==============================] - 7s 4ms/step - loss: 0.0129 - accuracy: 0.9959\n",
            "Epoch 8/10\n",
            "1875/1875 [==============================] - 8s 4ms/step - loss: 0.0107 - accuracy: 0.9963\n",
            "Epoch 9/10\n",
            "1875/1875 [==============================] - 7s 4ms/step - loss: 0.0095 - accuracy: 0.9969\n",
            "Epoch 10/10\n",
            "1875/1875 [==============================] - 8s 4ms/step - loss: 0.0084 - accuracy: 0.9973\n",
            "313/313 [==============================] - 1s 3ms/step - loss: 0.0338 - accuracy: 0.9913\n"
          ]
        },
        {
          "data": {
            "text/plain": [
              "[0.03377958759665489, 0.9912999868392944]"
            ]
          },
          "execution_count": 10,
          "metadata": {},
          "output_type": "execute_result"
        }
      ],
      "source": [
        "model = Sequential([\n",
        "    Conv2D(25, (3, 3), activation=relu, input_shape=(28, 28, 1)),\n",
        "    Conv2D(30, (3, 3), activation=relu),\n",
        "    MaxPooling2D(),\n",
        "    Conv2D(30, (3, 3), activation=relu),\n",
        "    Conv2D(30, (3, 3), activation=relu),\n",
        "    MaxPooling2D(),\n",
        "\n",
        "    Flatten(),\n",
        "\n",
        "    Dense(128, activation=relu),\n",
        "    Dense(10, activation=softmax)\n",
        "])\n",
        "\n",
        "model.compile(optimizer=Adam(), loss=sparse_categorical_crossentropy, metrics=['accuracy'])\n",
        "\n",
        "print(f'Mnist Dataset With CNN With {EPOCHS} Epochs')\n",
        "model.fit(x_train, y_train, epochs=EPOCHS)\n",
        "model.evaluate(x_test, y_test)"
      ]
    },
    {
      "cell_type": "markdown",
      "metadata": {
        "id": "I7YvKap55PKJ"
      },
      "source": [
        "## Fashion Mnist Dataset"
      ]
    },
    {
      "cell_type": "code",
      "execution_count": null,
      "metadata": {
        "colab": {
          "base_uri": "https://localhost:8080/"
        },
        "id": "b8yAiRTi5Upr",
        "outputId": "07ff3da6-1641-45f3-ea54-6aa025dae254"
      },
      "outputs": [
        {
          "name": "stdout",
          "output_type": "stream",
          "text": [
            "Downloading data from https://storage.googleapis.com/tensorflow/tf-keras-datasets/train-labels-idx1-ubyte.gz\n",
            "29515/29515 [==============================] - 0s 0us/step\n",
            "Downloading data from https://storage.googleapis.com/tensorflow/tf-keras-datasets/train-images-idx3-ubyte.gz\n",
            "26421880/26421880 [==============================] - 0s 0us/step\n",
            "Downloading data from https://storage.googleapis.com/tensorflow/tf-keras-datasets/t10k-labels-idx1-ubyte.gz\n",
            "5148/5148 [==============================] - 0s 0us/step\n",
            "Downloading data from https://storage.googleapis.com/tensorflow/tf-keras-datasets/t10k-images-idx3-ubyte.gz\n",
            "4422102/4422102 [==============================] - 0s 0us/step\n"
          ]
        }
      ],
      "source": [
        "(x_train, y_train),(x_test, y_test) = fashion_mnist.load_data()\n",
        "x_train, x_test = x_train / 255.0, x_test / 255.0"
      ]
    },
    {
      "cell_type": "markdown",
      "metadata": {
        "id": "27RYxXh-5sum"
      },
      "source": [
        "### MLP"
      ]
    },
    {
      "cell_type": "code",
      "execution_count": null,
      "metadata": {
        "colab": {
          "base_uri": "https://localhost:8080/"
        },
        "id": "EcZIJ46b5vkK",
        "outputId": "21341d37-b928-4508-e1c3-9321797d5e29"
      },
      "outputs": [
        {
          "data": {
            "text/plain": [
              "(28, 28)"
            ]
          },
          "execution_count": 13,
          "metadata": {},
          "output_type": "execute_result"
        }
      ],
      "source": [
        "x_train[0].shape"
      ]
    },
    {
      "cell_type": "code",
      "execution_count": null,
      "metadata": {
        "colab": {
          "base_uri": "https://localhost:8080/"
        },
        "id": "Tbajfbo_5ru7",
        "outputId": "2f69ca90-c4ab-4b42-86e8-6ef1c788e054"
      },
      "outputs": [
        {
          "name": "stdout",
          "output_type": "stream",
          "text": [
            "Fashion Mnist Dataset With MLP With 10 Epochs\n",
            "Epoch 1/10\n",
            "1875/1875 [==============================] - 5s 3ms/step - loss: 0.5018 - accuracy: 0.8229\n",
            "Epoch 2/10\n",
            "1875/1875 [==============================] - 6s 3ms/step - loss: 0.3786 - accuracy: 0.8630\n",
            "Epoch 3/10\n",
            "1875/1875 [==============================] - 5s 3ms/step - loss: 0.3385 - accuracy: 0.8762\n",
            "Epoch 4/10\n",
            "1875/1875 [==============================] - 6s 3ms/step - loss: 0.3139 - accuracy: 0.8852\n",
            "Epoch 5/10\n",
            "1875/1875 [==============================] - 5s 2ms/step - loss: 0.2940 - accuracy: 0.8898\n",
            "Epoch 6/10\n",
            "1875/1875 [==============================] - 5s 3ms/step - loss: 0.2811 - accuracy: 0.8964\n",
            "Epoch 7/10\n",
            "1875/1875 [==============================] - 5s 3ms/step - loss: 0.2686 - accuracy: 0.8988\n",
            "Epoch 8/10\n",
            "1875/1875 [==============================] - 5s 2ms/step - loss: 0.2569 - accuracy: 0.9041\n",
            "Epoch 9/10\n",
            "1875/1875 [==============================] - 6s 3ms/step - loss: 0.2479 - accuracy: 0.9072\n",
            "Epoch 10/10\n",
            "1875/1875 [==============================] - 6s 3ms/step - loss: 0.2404 - accuracy: 0.9099\n",
            "313/313 [==============================] - 1s 2ms/step - loss: 0.3277 - accuracy: 0.8849\n"
          ]
        },
        {
          "data": {
            "text/plain": [
              "[0.327731192111969, 0.8848999738693237]"
            ]
          },
          "execution_count": 14,
          "metadata": {},
          "output_type": "execute_result"
        }
      ],
      "source": [
        "model = Sequential([\n",
        "  Flatten(input_shape=(28, 28)),\n",
        "  Dense(128, activation=relu),\n",
        "  Dense(10, activation=softmax)\n",
        "])\n",
        "\n",
        "model.compile(optimizer=Adam(), loss=sparse_categorical_crossentropy, metrics=['accuracy'])\n",
        "\n",
        "print(f'Fashion Mnist Dataset With MLP With {EPOCHS} Epochs')\n",
        "model.fit(x_train, y_train, epochs=EPOCHS)\n",
        "model.evaluate(x_test, y_test)"
      ]
    },
    {
      "cell_type": "markdown",
      "metadata": {
        "id": "btlqQggF56Cc"
      },
      "source": [
        "### CNN + MLP"
      ]
    },
    {
      "cell_type": "code",
      "execution_count": null,
      "metadata": {
        "colab": {
          "base_uri": "https://localhost:8080/"
        },
        "id": "gSQzfzPk538H",
        "outputId": "a9cc6887-558a-40d3-b6da-0703dd8ac67d"
      },
      "outputs": [
        {
          "name": "stdout",
          "output_type": "stream",
          "text": [
            "Fashion Mnist Dataset With CNN With 10 Epochs\n",
            "Epoch 1/10\n",
            "1875/1875 [==============================] - 9s 4ms/step - loss: 0.4770 - accuracy: 0.8243\n",
            "Epoch 2/10\n",
            "1875/1875 [==============================] - 8s 4ms/step - loss: 0.3044 - accuracy: 0.8883\n",
            "Epoch 3/10\n",
            "1875/1875 [==============================] - 8s 4ms/step - loss: 0.2580 - accuracy: 0.9048\n",
            "Epoch 4/10\n",
            "1875/1875 [==============================] - 7s 4ms/step - loss: 0.2290 - accuracy: 0.9145\n",
            "Epoch 5/10\n",
            "1875/1875 [==============================] - 8s 4ms/step - loss: 0.2065 - accuracy: 0.9226\n",
            "Epoch 6/10\n",
            "1875/1875 [==============================] - 8s 4ms/step - loss: 0.1890 - accuracy: 0.9307\n",
            "Epoch 7/10\n",
            "1875/1875 [==============================] - 8s 4ms/step - loss: 0.1770 - accuracy: 0.9336\n",
            "Epoch 8/10\n",
            "1875/1875 [==============================] - 8s 4ms/step - loss: 0.1612 - accuracy: 0.9402\n",
            "Epoch 9/10\n",
            "1875/1875 [==============================] - 7s 4ms/step - loss: 0.1485 - accuracy: 0.9450\n",
            "Epoch 10/10\n",
            "1875/1875 [==============================] - 8s 4ms/step - loss: 0.1367 - accuracy: 0.9496\n",
            "313/313 [==============================] - 1s 3ms/step - loss: 0.2444 - accuracy: 0.9176\n"
          ]
        },
        {
          "data": {
            "text/plain": [
              "[0.24442040920257568, 0.9175999760627747]"
            ]
          },
          "execution_count": 15,
          "metadata": {},
          "output_type": "execute_result"
        }
      ],
      "source": [
        "model = Sequential([\n",
        "    Conv2D(25, (3, 3), activation=relu, input_shape=(28, 28, 1)),\n",
        "    Conv2D(30, (3, 3), activation=relu),\n",
        "    MaxPooling2D(),\n",
        "    Conv2D(30, (3, 3), activation=relu),\n",
        "    Conv2D(30, (3, 3), activation=relu),\n",
        "    MaxPooling2D(),\n",
        "\n",
        "    Flatten(),\n",
        "\n",
        "    Dense(128, activation=relu),\n",
        "    Dense(10, activation=softmax)\n",
        "])\n",
        "\n",
        "model.compile(optimizer=Adam(), loss=sparse_categorical_crossentropy, metrics=['accuracy'])\n",
        "\n",
        "print(f'Fashion Mnist Dataset With CNN With {EPOCHS} Epochs')\n",
        "model.fit(x_train, y_train, epochs=EPOCHS)\n",
        "model.evaluate(x_test, y_test)"
      ]
    },
    {
      "cell_type": "markdown",
      "metadata": {
        "id": "b8SrP6J-uloe"
      },
      "source": [
        "## Cifar 10"
      ]
    },
    {
      "cell_type": "code",
      "execution_count": 3,
      "metadata": {
        "colab": {
          "base_uri": "https://localhost:8080/"
        },
        "id": "j7HUrbQbupwB",
        "outputId": "32b1ac5a-7192-4f22-94c8-79f6c42803fd"
      },
      "outputs": [
        {
          "name": "stdout",
          "output_type": "stream",
          "text": [
            "Downloading data from https://www.cs.toronto.edu/~kriz/cifar-10-python.tar.gz\n",
            "170498071/170498071 [==============================] - 4s 0us/step\n"
          ]
        }
      ],
      "source": [
        "(x_train, y_train),(x_test, y_test) = cifar10.load_data()\n",
        "x_train, x_test = x_train / 255.0, x_test / 255.0"
      ]
    },
    {
      "cell_type": "code",
      "execution_count": 4,
      "metadata": {
        "colab": {
          "base_uri": "https://localhost:8080/"
        },
        "id": "BKIyyWxyuvx7",
        "outputId": "a6ed6517-5e21-416e-de61-0cc86c4d597f"
      },
      "outputs": [
        {
          "data": {
            "text/plain": [
              "(32, 32, 3)"
            ]
          },
          "execution_count": 4,
          "metadata": {},
          "output_type": "execute_result"
        }
      ],
      "source": [
        "x_train[0].shape"
      ]
    },
    {
      "cell_type": "markdown",
      "metadata": {
        "id": "wXXbiBOMvTX-"
      },
      "source": [
        "### MLP"
      ]
    },
    {
      "cell_type": "code",
      "execution_count": 5,
      "metadata": {
        "colab": {
          "base_uri": "https://localhost:8080/"
        },
        "id": "Ghql7K5qu0MK",
        "outputId": "9c49133c-fe03-4295-f4b8-e8220f5d1416"
      },
      "outputs": [
        {
          "name": "stdout",
          "output_type": "stream",
          "text": [
            "Cifar10 Dataset With MLP With 10 Epochs\n",
            "Epoch 1/10\n",
            "1563/1563 [==============================] - 6s 3ms/step - loss: 1.9229 - accuracy: 0.3089\n",
            "Epoch 2/10\n",
            "1563/1563 [==============================] - 5s 3ms/step - loss: 1.7834 - accuracy: 0.3628\n",
            "Epoch 3/10\n",
            "1563/1563 [==============================] - 5s 3ms/step - loss: 1.7320 - accuracy: 0.3845\n",
            "Epoch 4/10\n",
            "1563/1563 [==============================] - 4s 3ms/step - loss: 1.7091 - accuracy: 0.3906\n",
            "Epoch 5/10\n",
            "1563/1563 [==============================] - 5s 3ms/step - loss: 1.6941 - accuracy: 0.3955\n",
            "Epoch 6/10\n",
            "1563/1563 [==============================] - 5s 3ms/step - loss: 1.6809 - accuracy: 0.4045\n",
            "Epoch 7/10\n",
            "1563/1563 [==============================] - 4s 3ms/step - loss: 1.6664 - accuracy: 0.4092\n",
            "Epoch 8/10\n",
            "1563/1563 [==============================] - 5s 3ms/step - loss: 1.6589 - accuracy: 0.4106\n",
            "Epoch 9/10\n",
            "1563/1563 [==============================] - 5s 3ms/step - loss: 1.6487 - accuracy: 0.4122\n",
            "Epoch 10/10\n",
            "1563/1563 [==============================] - 4s 3ms/step - loss: 1.6415 - accuracy: 0.4178\n",
            "313/313 [==============================] - 1s 2ms/step - loss: 1.6321 - accuracy: 0.4192\n"
          ]
        },
        {
          "data": {
            "text/plain": [
              "[1.6320866346359253, 0.41920000314712524]"
            ]
          },
          "execution_count": 5,
          "metadata": {},
          "output_type": "execute_result"
        }
      ],
      "source": [
        "model = Sequential([\n",
        "  Flatten(input_shape=(32, 32, 3)),\n",
        "  Dense(128, activation=relu),\n",
        "  Dense(10, activation=softmax)\n",
        "])\n",
        "\n",
        "model.compile(optimizer=Adam(), loss=sparse_categorical_crossentropy, metrics=['accuracy'])\n",
        "\n",
        "print(f'Cifar10 Dataset With MLP With {EPOCHS} Epochs')\n",
        "model.fit(x_train, y_train, epochs=EPOCHS)\n",
        "model.evaluate(x_test, y_test)"
      ]
    },
    {
      "cell_type": "markdown",
      "metadata": {
        "id": "tnb0_UJgvVg2"
      },
      "source": [
        "### CNN + MLP"
      ]
    },
    {
      "cell_type": "code",
      "execution_count": 6,
      "metadata": {
        "colab": {
          "base_uri": "https://localhost:8080/"
        },
        "id": "imsMrhAKvADM",
        "outputId": "4d296e13-256e-4f45-9c31-dfa0e0bc91a2"
      },
      "outputs": [
        {
          "name": "stdout",
          "output_type": "stream",
          "text": [
            "Cifar10 Dataset With CNN With 10 Epochs\n",
            "Epoch 1/10\n",
            "1563/1563 [==============================] - 11s 5ms/step - loss: 1.4731 - accuracy: 0.4625\n",
            "Epoch 2/10\n",
            "1563/1563 [==============================] - 7s 5ms/step - loss: 1.1100 - accuracy: 0.6076\n",
            "Epoch 3/10\n",
            "1563/1563 [==============================] - 7s 5ms/step - loss: 0.9512 - accuracy: 0.6636\n",
            "Epoch 4/10\n",
            "1563/1563 [==============================] - 8s 5ms/step - loss: 0.8541 - accuracy: 0.7005\n",
            "Epoch 5/10\n",
            "1563/1563 [==============================] - 7s 4ms/step - loss: 0.7762 - accuracy: 0.7261\n",
            "Epoch 6/10\n",
            "1563/1563 [==============================] - 8s 5ms/step - loss: 0.7100 - accuracy: 0.7493\n",
            "Epoch 7/10\n",
            "1563/1563 [==============================] - 7s 4ms/step - loss: 0.6563 - accuracy: 0.7678\n",
            "Epoch 8/10\n",
            "1563/1563 [==============================] - 8s 5ms/step - loss: 0.6103 - accuracy: 0.7832\n",
            "Epoch 9/10\n",
            "1563/1563 [==============================] - 8s 5ms/step - loss: 0.5627 - accuracy: 0.7996\n",
            "Epoch 10/10\n",
            "1563/1563 [==============================] - 7s 5ms/step - loss: 0.5309 - accuracy: 0.8127\n",
            "313/313 [==============================] - 1s 3ms/step - loss: 0.8456 - accuracy: 0.7237\n"
          ]
        },
        {
          "data": {
            "text/plain": [
              "[0.8456172943115234, 0.7236999869346619]"
            ]
          },
          "execution_count": 6,
          "metadata": {},
          "output_type": "execute_result"
        }
      ],
      "source": [
        "model = Sequential([\n",
        "    Conv2D(25, (3, 3), activation=relu, input_shape=(32, 32, 3)),\n",
        "    Conv2D(30, (3, 3), activation=relu),\n",
        "    MaxPooling2D(),\n",
        "    Conv2D(30, (3, 3), activation=relu),\n",
        "    Conv2D(30, (3, 3), activation=relu),\n",
        "    MaxPooling2D(),\n",
        "\n",
        "    Flatten(),\n",
        "\n",
        "    Dense(128, activation=relu),\n",
        "    Dense(10, activation=softmax)\n",
        "])\n",
        "\n",
        "model.compile(optimizer=Adam(), loss=sparse_categorical_crossentropy, metrics=['accuracy'])\n",
        "\n",
        "print(f'Cifar10 Dataset With CNN With {EPOCHS} Epochs')\n",
        "model.fit(x_train, y_train, epochs=EPOCHS)\n",
        "model.evaluate(x_test, y_test)"
      ]
    },
    {
      "cell_type": "markdown",
      "metadata": {
        "id": "vKUvomf1v9cd"
      },
      "source": [
        "## Cifar100"
      ]
    },
    {
      "cell_type": "code",
      "execution_count": 7,
      "metadata": {
        "colab": {
          "base_uri": "https://localhost:8080/"
        },
        "id": "RmFcu8Vsv_x0",
        "outputId": "ea83581b-11c1-42ed-8f41-8c9747c56195"
      },
      "outputs": [
        {
          "name": "stdout",
          "output_type": "stream",
          "text": [
            "Downloading data from https://www.cs.toronto.edu/~kriz/cifar-100-python.tar.gz\n",
            "169001437/169001437 [==============================] - 4s 0us/step\n"
          ]
        }
      ],
      "source": [
        "(x_train, y_train),(x_test, y_test) = cifar100.load_data()\n",
        "x_train, x_test = x_train / 255.0, x_test / 255.0"
      ]
    },
    {
      "cell_type": "code",
      "execution_count": 8,
      "metadata": {
        "colab": {
          "base_uri": "https://localhost:8080/"
        },
        "id": "RH6JjSKpwEMW",
        "outputId": "a4c9fbcf-3d20-487f-a74d-9adecfaf0169"
      },
      "outputs": [
        {
          "data": {
            "text/plain": [
              "(32, 32, 3)"
            ]
          },
          "execution_count": 8,
          "metadata": {},
          "output_type": "execute_result"
        }
      ],
      "source": [
        "x_train[0].shape"
      ]
    },
    {
      "cell_type": "markdown",
      "metadata": {
        "id": "piC2XZD4wJ_l"
      },
      "source": [
        "### MLP"
      ]
    },
    {
      "cell_type": "code",
      "execution_count": 13,
      "metadata": {
        "colab": {
          "base_uri": "https://localhost:8080/"
        },
        "id": "Oj5qFHc2wGnd",
        "outputId": "ae0274bc-edcd-4736-c018-5ad4f9b89105"
      },
      "outputs": [
        {
          "name": "stdout",
          "output_type": "stream",
          "text": [
            "Cifar100 Dataset With MLP With 10 Epochs\n",
            "Epoch 1/10\n",
            "1563/1563 [==============================] - 6s 3ms/step - loss: 4.0777 - accuracy: 0.0753\n",
            "Epoch 2/10\n",
            "1563/1563 [==============================] - 6s 4ms/step - loss: 3.6867 - accuracy: 0.1353\n",
            "Epoch 3/10\n",
            "1563/1563 [==============================] - 5s 3ms/step - loss: 3.5518 - accuracy: 0.1596\n",
            "Epoch 4/10\n",
            "1563/1563 [==============================] - 5s 3ms/step - loss: 3.4519 - accuracy: 0.1766\n",
            "Epoch 5/10\n",
            "1563/1563 [==============================] - 6s 4ms/step - loss: 3.3880 - accuracy: 0.1909\n",
            "Epoch 6/10\n",
            "1563/1563 [==============================] - 5s 3ms/step - loss: 3.3445 - accuracy: 0.1983\n",
            "Epoch 7/10\n",
            "1563/1563 [==============================] - 6s 4ms/step - loss: 3.2964 - accuracy: 0.2048\n",
            "Epoch 8/10\n",
            "1563/1563 [==============================] - 5s 3ms/step - loss: 3.2673 - accuracy: 0.2095\n",
            "Epoch 9/10\n",
            "1563/1563 [==============================] - 6s 4ms/step - loss: 3.2355 - accuracy: 0.2136\n",
            "Epoch 10/10\n",
            "1563/1563 [==============================] - 6s 4ms/step - loss: 3.2095 - accuracy: 0.2189\n",
            "313/313 [==============================] - 1s 2ms/step - loss: 3.3824 - accuracy: 0.2005\n"
          ]
        },
        {
          "data": {
            "text/plain": [
              "[3.382403612136841, 0.2004999965429306]"
            ]
          },
          "execution_count": 13,
          "metadata": {},
          "output_type": "execute_result"
        }
      ],
      "source": [
        "model = Sequential([\n",
        "    Flatten(input_shape=(32, 32, 3)),\n",
        "    Dense(256, activation=relu),\n",
        "    Dense(128, activation=relu),\n",
        "    Dense(100, activation=softmax)\n",
        "])\n",
        "\n",
        "model.compile(optimizer=Adam(), loss=sparse_categorical_crossentropy, metrics=['accuracy'])\n",
        "\n",
        "print(f'Cifar100 Dataset With MLP With {EPOCHS} Epochs')\n",
        "model.fit(x_train, y_train, epochs=EPOCHS)\n",
        "model.evaluate(x_test, y_test)"
      ]
    },
    {
      "cell_type": "markdown",
      "metadata": {
        "id": "WUofje9Cwc_2"
      },
      "source": [
        "### CNN + MLP"
      ]
    },
    {
      "cell_type": "code",
      "execution_count": 21,
      "metadata": {
        "colab": {
          "base_uri": "https://localhost:8080/"
        },
        "id": "4qzvb0rRwPvG",
        "outputId": "2a95c073-4a29-4d4e-e3b1-2ebb208c747f"
      },
      "outputs": [
        {
          "name": "stdout",
          "output_type": "stream",
          "text": [
            "Cifar100 Dataset With CNN With 10 Epochs\n",
            "Epoch 1/10\n",
            "1563/1563 [==============================] - 13s 7ms/step - loss: 4.0581 - accuracy: 0.0661\n",
            "Epoch 2/10\n",
            "1563/1563 [==============================] - 11s 7ms/step - loss: 3.3673 - accuracy: 0.1802\n",
            "Epoch 3/10\n",
            "1563/1563 [==============================] - 11s 7ms/step - loss: 2.9183 - accuracy: 0.2638\n",
            "Epoch 4/10\n",
            "1563/1563 [==============================] - 11s 7ms/step - loss: 2.5887 - accuracy: 0.3327\n",
            "Epoch 5/10\n",
            "1563/1563 [==============================] - 11s 7ms/step - loss: 2.3257 - accuracy: 0.3870\n",
            "Epoch 6/10\n",
            "1563/1563 [==============================] - 11s 7ms/step - loss: 2.1028 - accuracy: 0.4342\n",
            "Epoch 7/10\n",
            "1563/1563 [==============================] - 11s 7ms/step - loss: 1.8821 - accuracy: 0.4821\n",
            "Epoch 8/10\n",
            "1563/1563 [==============================] - 11s 7ms/step - loss: 1.6899 - accuracy: 0.5291\n",
            "Epoch 9/10\n",
            "1563/1563 [==============================] - 11s 7ms/step - loss: 1.4896 - accuracy: 0.5758\n",
            "Epoch 10/10\n",
            "1563/1563 [==============================] - 11s 7ms/step - loss: 1.3204 - accuracy: 0.6174\n",
            "313/313 [==============================] - 1s 3ms/step - loss: 2.8680 - accuracy: 0.3782\n"
          ]
        },
        {
          "data": {
            "text/plain": [
              "[2.867969512939453, 0.3781999945640564]"
            ]
          },
          "execution_count": 21,
          "metadata": {},
          "output_type": "execute_result"
        }
      ],
      "source": [
        "model = Sequential([\n",
        "    Conv2D(64, (3, 3), activation=relu, input_shape=(32, 32, 3), padding='same'),\n",
        "    MaxPooling2D(padding='same'),\n",
        "\n",
        "    Conv2D(128, (3, 3), activation=relu, padding='same'),\n",
        "    MaxPooling2D(padding='same'),\n",
        "\n",
        "    Conv2D(256, (3, 3), activation=relu, padding='same'),\n",
        "    MaxPooling2D(padding='same'),\n",
        "\n",
        "    Conv2D(512, (3, 3), activation=relu, padding='same'),\n",
        "    MaxPooling2D(padding='same'),\n",
        "\n",
        "    Flatten(),\n",
        "\n",
        "    Dense(512, activation=relu),\n",
        "    Dense(256, activation=relu),\n",
        "    Dense(100, activation=softmax)\n",
        "])\n",
        "\n",
        "model.compile(optimizer=Adam(), loss=sparse_categorical_crossentropy, metrics=['accuracy'])\n",
        "\n",
        "print(f'Cifar100 Dataset With CNN With {EPOCHS} Epochs')\n",
        "model.fit(x_train, y_train, epochs=EPOCHS)\n",
        "model.evaluate(x_test, y_test)"
      ]
    },
    {
      "cell_type": "code",
      "execution_count": null,
      "metadata": {
        "id": "YOOyN9qy3J9R"
      },
      "outputs": [],
      "source": []
    }
  ],
  "metadata": {
    "accelerator": "GPU",
    "colab": {
      "collapsed_sections": [
        "W3fELRHyuUQl",
        "fOx3YJoMvt52"
      ],
      "gpuType": "T4",
      "provenance": []
    },
    "kernelspec": {
      "display_name": "Python 3",
      "name": "python3"
    },
    "language_info": {
      "name": "python"
    }
  },
  "nbformat": 4,
  "nbformat_minor": 0
}
