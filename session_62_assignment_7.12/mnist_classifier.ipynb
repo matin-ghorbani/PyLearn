{
 "cells": [
  {
   "cell_type": "code",
   "execution_count": 23,
   "metadata": {},
   "outputs": [],
   "source": [
    "import tensorflow as tf\n",
    "from keras import layers\n",
    "from keras import activations\n",
    "from keras import losses\n",
    "from keras import optimizers\n",
    "from keras import metrics\n",
    "from keras.datasets import mnist\n",
    "import cv2 as cv\n",
    "import numpy as np\n",
    "import matplotlib.pyplot as plt"
   ]
  },
  {
   "cell_type": "code",
   "execution_count": 2,
   "metadata": {},
   "outputs": [],
   "source": [
    "(x_train, y_train), (x_test, y_test) = mnist.load_data()"
   ]
  },
  {
   "cell_type": "code",
   "execution_count": 3,
   "metadata": {},
   "outputs": [],
   "source": [
    "x_train = x_train / 255.\n",
    "x_test = x_test / 255."
   ]
  },
  {
   "cell_type": "code",
   "execution_count": 4,
   "metadata": {},
   "outputs": [
    {
     "data": {
      "text/plain": [
       "(28, 28)"
      ]
     },
     "execution_count": 4,
     "metadata": {},
     "output_type": "execute_result"
    }
   ],
   "source": [
    "x_train[0].shape"
   ]
  },
  {
   "cell_type": "code",
   "execution_count": 5,
   "metadata": {},
   "outputs": [
    {
     "data": {
      "text/plain": [
       "(28, 28, 1)"
      ]
     },
     "execution_count": 5,
     "metadata": {},
     "output_type": "execute_result"
    }
   ],
   "source": [
    "x_train = x_train[..., tf.newaxis]\n",
    "x_test = x_test[..., tf.newaxis]\n",
    "\n",
    "x_train[0].shape"
   ]
  },
  {
   "cell_type": "code",
   "execution_count": null,
   "metadata": {},
   "outputs": [],
   "source": [
    "train_dataset = tf.data.Dataset.from_tensor_slices((x_train, y_train)).shuffle(1000).batch(32)\n",
    "test_dataset = tf.data.Dataset.from_tensor_slices((x_test, y_test)).batch(32)"
   ]
  },
  {
   "cell_type": "code",
   "execution_count": 45,
   "metadata": {},
   "outputs": [],
   "source": [
    "class Classifier(tf.keras.Model):\n",
    "    def __init__(self, *args, **kwargs):\n",
    "        super().__init__(*args, **kwargs)\n",
    "\n",
    "        self.conv = layers.Conv2D(32, 3, activation=activations.relu)\n",
    "        self.flatten = layers.Flatten()\n",
    "        self.dense1 = layers.Dense(128, activation=activations.relu)\n",
    "        self.dense2 = layers.Dense(10, activation=activations.softmax)\n",
    "\n",
    "        self.loss_func = losses.SparseCategoricalCrossentropy(True)\n",
    "        self.optimizer = optimizers.Adam()\n",
    "\n",
    "        self.train_loss = metrics.Mean()\n",
    "        self.test_loss = metrics.Mean()\n",
    "\n",
    "        self.train_accuracy = metrics.SparseCategoricalAccuracy()\n",
    "        self.test_accuracy = metrics.SparseCategoricalAccuracy()\n",
    "\n",
    "    def call(self, x):\n",
    "        x = self.conv(x)\n",
    "        x = self.flatten(x)\n",
    "        x = self.dense1(x)\n",
    "\n",
    "        return self.dense2(x)\n",
    "\n",
    "    def build_model(self):\n",
    "        self.model = Classifier()\n",
    "\n",
    "    @tf.function\n",
    "    def train(self, images, labels):\n",
    "        # tape: tf.GradientTape\n",
    "        with tf.GradientTape() as tape:\n",
    "            pred = self.model(images)\n",
    "            loss = self.loss_func(labels, pred)\n",
    "\n",
    "        gradients = tape.gradient(loss, self.model.trainable_variables)\n",
    "        self.optimizer.apply_gradients(\n",
    "            zip(gradients, self.model.trainable_variables))\n",
    "\n",
    "        self.train_loss(loss)\n",
    "        self.train_accuracy(labels, pred)\n",
    "\n",
    "    @tf.function\n",
    "    def test(self, images, labels):\n",
    "        pred = self.model(images)\n",
    "        loss = self.loss_func(labels, pred)\n",
    "\n",
    "        self.test_loss(loss)\n",
    "        self.test_accuracy(labels, pred)\n",
    "\n",
    "    def fit(self, train_dataset, test_dataset, epochs):\n",
    "        for epoch in range(1, epochs + 1):\n",
    "            self.train_loss.reset_states()\n",
    "            self.train_accuracy.reset_states()\n",
    "            self.test_loss.reset_states()\n",
    "            self.test_accuracy.reset_states()\n",
    "\n",
    "            for imgs, labels in train_dataset:\n",
    "                self.train(imgs, labels)\n",
    "\n",
    "            for imgs, labels in test_dataset:\n",
    "                self.test(imgs, labels)\n",
    "\n",
    "            show_train_loss = round(float(self.train_loss.result()), 4)\n",
    "            show_train_acc = round(float(self.train_accuracy.result()), 4)\n",
    "            show_test_loss = round(float(self.test_loss.result()), 4)\n",
    "            show_test_acc = round(float(self.test_accuracy.result()), 4)\n",
    "            print(f'Epoch: {epoch}, Train Loss: {show_train_loss}, Train Accuracy: {show_train_acc}, ' +\n",
    "                  f'Test Loss: {show_test_loss}, Test Accuracy: {show_test_acc}')\n",
    "    \n",
    "    def predict(self, img):\n",
    "        img = cv.cvtColor(img, cv.COLOR_BGR2GRAY)\n",
    "        img = cv.resize(img, (28, 28))\n",
    "\n",
    "        # add new axis for model\n",
    "        img = img[..., tf.newaxis]\n",
    "        # add batch size\n",
    "        img = img[tf.newaxis, ...]\n",
    "        img = img.astype('float32')\n",
    "\n",
    "        return self.model(img)\n",
    "    \n",
    "    def load_model(self, model_path):\n",
    "        self.model = tf.keras.models.load_model(model_path)"
   ]
  },
  {
   "cell_type": "code",
   "execution_count": 49,
   "metadata": {},
   "outputs": [
    {
     "name": "stdout",
     "output_type": "stream",
     "text": [
      "Epoch: 1, Train Loss: 0.1314, Train Accuracy: 0.9596, Test Loss: 0.0595, Test Accuracy: 0.9804\n",
      "Epoch: 2, Train Loss: 0.0415, Train Accuracy: 0.9872, Test Loss: 0.0564, Test Accuracy: 0.981\n",
      "Epoch: 3, Train Loss: 0.0205, Train Accuracy: 0.9935, Test Loss: 0.0547, Test Accuracy: 0.9822\n",
      "Epoch: 4, Train Loss: 0.013, Train Accuracy: 0.9956, Test Loss: 0.0668, Test Accuracy: 0.9826\n",
      "Epoch: 5, Train Loss: 0.0093, Train Accuracy: 0.997, Test Loss: 0.0577, Test Accuracy: 0.9839\n"
     ]
    }
   ],
   "source": [
    "model = Classifier()\n",
    "model.build_model()\n",
    "model.fit(train_dataset, test_dataset, 5)"
   ]
  },
  {
   "cell_type": "code",
   "execution_count": 50,
   "metadata": {},
   "outputs": [
    {
     "data": {
      "image/png": "[encoded data removed]",
      "text/plain": [
       "<Figure size 640x480 with 1 Axes>"
      ]
     },
     "metadata": {},
     "output_type": "display_data"
    }
   ],
   "source": [
    "zero_img = cv.imread('./io/input/zero.png')\n",
    "plt.imshow(zero_img, cmap='gray')\n",
    "plt.show()"
   ]
  },
  {
   "cell_type": "code",
   "execution_count": 51,
   "metadata": {},
   "outputs": [
    {
     "data": {
      "text/plain": [
       "0"
      ]
     },
     "execution_count": 51,
     "metadata": {},
     "output_type": "execute_result"
    }
   ],
   "source": [
    "np.argmax(model.predict(zero_img))"
   ]
  },
  {
   "cell_type": "code",
   "execution_count": 52,
   "metadata": {},
   "outputs": [
    {
     "data": {
      "image/png": "[encoded data removed]",
      "text/plain": [
       "<Figure size 640x480 with 1 Axes>"
      ]
     },
     "metadata": {},
     "output_type": "display_data"
    }
   ],
   "source": [
    "tow_img = cv.imread('./io/input/tow.png')\n",
    "plt.imshow(tow_img, cmap='gray')\n",
    "plt.show()"
   ]
  },
  {
   "cell_type": "code",
   "execution_count": 53,
   "metadata": {},
   "outputs": [
    {
     "data": {
      "text/plain": [
       "2"
      ]
     },
     "execution_count": 53,
     "metadata": {},
     "output_type": "execute_result"
    }
   ],
   "source": [
    "np.argmax(model.predict(tow_img))"
   ]
  }
 ],
 "metadata": {
  "kernelspec": {
   "display_name": "Python 3",
   "language": "python",
   "name": "python3"
  },
  "language_info": {
   "codemirror_mode": {
    "name": "ipython",
    "version": 3
   },
   "file_extension": ".py",
   "mimetype": "text/x-python",
   "name": "python",
   "nbconvert_exporter": "python",
   "pygments_lexer": "ipython3",
   "version": "3.10.12"
  }
 },
 "nbformat": 4,
 "nbformat_minor": 2
}
