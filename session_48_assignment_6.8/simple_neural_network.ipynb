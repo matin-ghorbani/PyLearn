{
 "cells": [
  {
   "cell_type": "markdown",
   "metadata": {},
   "source": [
    "# Matin Ghorbani 6.8.Assignment\n",
    "---"
   ]
  },
  {
   "cell_type": "markdown",
   "metadata": {},
   "source": [
    "## Implement a simple neural network (Multi Layer Perceptron) on Scikit-Learn digits dataset\n",
    "---"
   ]
  },
  {
   "cell_type": "markdown",
   "metadata": {},
   "source": [
    "## Import Dependencies"
   ]
  },
  {
   "cell_type": "code",
   "execution_count": 10,
   "metadata": {},
   "outputs": [],
   "source": [
    "import numpy as np\n",
    "import matplotlib.pyplot as plt\n",
    "from sklearn.datasets import load_digits\n",
    "from sklearn.model_selection import train_test_split"
   ]
  },
  {
   "cell_type": "code",
   "execution_count": 11,
   "metadata": {},
   "outputs": [
    {
     "data": {
      "text/plain": [
       "(1797, 64)"
      ]
     },
     "execution_count": 11,
     "metadata": {},
     "output_type": "execute_result"
    }
   ],
   "source": [
    "dataset = load_digits()\n",
    "dataset.data.shape"
   ]
  },
  {
   "cell_type": "code",
   "execution_count": 12,
   "metadata": {},
   "outputs": [
    {
     "data": {
      "text/plain": [
       "4"
      ]
     },
     "execution_count": 12,
     "metadata": {},
     "output_type": "execute_result"
    },
    {
     "data": {
      "image/png": "[encoded data removed]",
      "text/plain": [
       "<Figure size 640x480 with 1 Axes>"
      ]
     },
     "metadata": {},
     "output_type": "display_data"
    }
   ],
   "source": [
    "test = 100\n",
    "img = dataset.images[test]\n",
    "plt.imshow(img, cmap='gray')\n",
    "dataset.target[test]"
   ]
  },
  {
   "cell_type": "code",
   "execution_count": 14,
   "metadata": {},
   "outputs": [
    {
     "data": {
      "text/plain": [
       "((1437, 64), (1437, 10), (360, 64), (360, 10))"
      ]
     },
     "execution_count": 14,
     "metadata": {},
     "output_type": "execute_result"
    }
   ],
   "source": [
    "X = dataset.data\n",
    "Y = dataset.target\n",
    "\n",
    "Y = np.eye(10)[Y]  # Convert Y to one hot\n",
    "\n",
    "x_train, x_test, y_train, y_test = train_test_split(X, Y, test_size=0.2)\n",
    "x_train.shape, y_train.shape, x_test.shape, y_test.shape"
   ]
  },
  {
   "cell_type": "code",
   "execution_count": 15,
   "metadata": {},
   "outputs": [],
   "source": [
    "def sigmoid(x):\n",
    "    return 1 / (1 + np.exp(-x))\n",
    "\n",
    "def softmax(X):\n",
    "    return np.exp(X) / np.sum(np.exp(X))\n",
    "\n",
    "def root_mean_squired_error(Y_pred, Y_test):\n",
    "    return np.sqrt(np.mean((Y_pred - Y_test) ** 2))"
   ]
  },
  {
   "cell_type": "code",
   "execution_count": 19,
   "metadata": {},
   "outputs": [
    {
     "name": "stdout",
     "output_type": "stream",
     "text": [
      "Dimension input: 64, Dimension output: 10\n"
     ]
    }
   ],
   "source": [
    "Dimension_input = x_train.shape[1]\n",
    "Dimension_output = y_train.shape[1]\n",
    "\n",
    "H1 = 128\n",
    "H2 = 32\n",
    "\n",
    "lr = .001\n",
    "epochs = 80\n",
    "\n",
    "print(f'Dimension input: {Dimension_input}, Dimension output: {Dimension_output}')"
   ]
  },
  {
   "cell_type": "code",
   "execution_count": 24,
   "metadata": {},
   "outputs": [],
   "source": [
    "W1, W2, W3 = np.random.randn(Dimension_input, H1), np.random.randn(H1, H2), np.random.randn(H2, Dimension_output)"
   ]
  },
  {
   "cell_type": "code",
   "execution_count": 25,
   "metadata": {},
   "outputs": [],
   "source": [
    "B1, B2, B3 = np.random.randn(1, H1), np.random.randn(1, H2), np.random.randn(1, Dimension_output)"
   ]
  },
  {
   "cell_type": "code",
   "execution_count": 29,
   "metadata": {},
   "outputs": [
    {
     "name": "stdout",
     "output_type": "stream",
     "text": [
      "loss train: 0.2357576640897113, accuracy train: 0.08907446068197634\n",
      "loss test: 0.23033921533976603, accuracy test: 0.6388888888888888\n",
      "loss train: 0.2220311246675853, accuracy train: 0.0918580375782881\n",
      "loss test: 0.22022679005801735, accuracy test: 0.6888888888888889\n",
      "loss train: 0.21066106308387897, accuracy train: 0.09812108559498957\n",
      "loss test: 0.2121985054371386, accuracy test: 0.7055555555555556\n",
      "loss train: 0.19994524679804976, accuracy train: 0.10160055671537926\n",
      "loss test: 0.20504299030995699, accuracy test: 0.7166666666666667\n",
      "loss train: 0.19018771580389782, accuracy train: 0.09742519137091162\n",
      "loss test: 0.1984758450692517, accuracy test: 0.7416666666666667\n",
      "loss train: 0.18167765706768438, accuracy train: 0.1022964509394572\n",
      "loss test: 0.19151975668161497, accuracy test: 0.7555555555555555\n",
      "loss train: 0.17419608373671586, accuracy train: 0.1057759220598469\n",
      "loss test: 0.18628020683843505, accuracy test: 0.7638888888888888\n",
      "loss train: 0.1674518685016487, accuracy train: 0.10508002783576896\n",
      "loss test: 0.18160594147126385, accuracy test: 0.7694444444444445\n",
      "loss train: 0.1612923988104281, accuracy train: 0.10508002783576896\n",
      "loss test: 0.1778244100254949, accuracy test: 0.7777777777777778\n",
      "loss train: 0.15575125960885916, accuracy train: 0.10508002783576896\n",
      "loss test: 0.17485186370150355, accuracy test: 0.7805555555555556\n",
      "loss train: 0.15066281515449625, accuracy train: 0.10438413361169102\n",
      "loss test: 0.1718827277640057, accuracy test: 0.7944444444444444\n",
      "loss train: 0.14604949820406654, accuracy train: 0.10438413361169102\n",
      "loss test: 0.16884901470992747, accuracy test: 0.7972222222222223\n",
      "loss train: 0.14180446186001333, accuracy train: 0.10368823938761308\n",
      "loss test: 0.16613672360706697, accuracy test: 0.8083333333333333\n",
      "loss train: 0.13802630694004717, accuracy train: 0.10368823938761308\n",
      "loss test: 0.16368023976696602, accuracy test: 0.8111111111111111\n",
      "loss train: 0.1345701062630249, accuracy train: 0.10368823938761308\n",
      "loss test: 0.1613912397806538, accuracy test: 0.8166666666666667\n",
      "loss train: 0.13134914093774736, accuracy train: 0.10368823938761308\n",
      "loss test: 0.15930487939075139, accuracy test: 0.8277777777777777\n",
      "loss train: 0.12833833764261485, accuracy train: 0.10368823938761308\n",
      "loss test: 0.15756195743448287, accuracy test: 0.8388888888888889\n",
      "loss train: 0.1255233166178073, accuracy train: 0.10508002783576896\n",
      "loss test: 0.1560506228278306, accuracy test: 0.8333333333333334\n",
      "loss train: 0.12290504121387374, accuracy train: 0.10438413361169102\n",
      "loss test: 0.15463184669555768, accuracy test: 0.8333333333333334\n",
      "loss train: 0.12045473019014767, accuracy train: 0.10438413361169102\n",
      "loss test: 0.15328689891565464, accuracy test: 0.8472222222222222\n",
      "loss train: 0.11815343072270569, accuracy train: 0.10438413361169102\n",
      "loss test: 0.1520235748621741, accuracy test: 0.8583333333333333\n",
      "loss train: 0.11602090880535001, accuracy train: 0.10368823938761308\n",
      "loss test: 0.15083100645254124, accuracy test: 0.8611111111111112\n",
      "loss train: 0.1140319229286928, accuracy train: 0.10368823938761308\n",
      "loss test: 0.14967470730730337, accuracy test: 0.8638888888888889\n",
      "loss train: 0.1121494117500719, accuracy train: 0.10368823938761308\n",
      "loss test: 0.148536863155788, accuracy test: 0.8666666666666667\n",
      "loss train: 0.11034054460871183, accuracy train: 0.10438413361169102\n",
      "loss test: 0.14741314446928544, accuracy test: 0.8694444444444445\n",
      "loss train: 0.10860988823114408, accuracy train: 0.10368823938761308\n",
      "loss test: 0.1463128509408751, accuracy test: 0.8694444444444445\n",
      "loss train: 0.10695892728233067, accuracy train: 0.10299234516353514\n",
      "loss test: 0.1452472565731218, accuracy test: 0.8694444444444445\n",
      "loss train: 0.10537242688831101, accuracy train: 0.1022964509394572\n",
      "loss test: 0.14423162041637483, accuracy test: 0.8694444444444445\n",
      "loss train: 0.10383090810022029, accuracy train: 0.1022964509394572\n",
      "loss test: 0.14330228782457752, accuracy test: 0.8666666666666667\n",
      "loss train: 0.10230371247036289, accuracy train: 0.1022964509394572\n",
      "loss test: 0.14244581026531267, accuracy test: 0.8666666666666667\n",
      "loss train: 0.10075967128231371, accuracy train: 0.10090466249130133\n",
      "loss test: 0.14157605229863468, accuracy test: 0.8666666666666667\n",
      "loss train: 0.09921784524264324, accuracy train: 0.10160055671537926\n",
      "loss test: 0.14071332826578628, accuracy test: 0.8638888888888889\n",
      "loss train: 0.09732932168453302, accuracy train: 0.10160055671537926\n",
      "loss test: 0.13987087894786088, accuracy test: 0.8694444444444445\n",
      "loss train: 0.09571228446712915, accuracy train: 0.10160055671537926\n",
      "loss test: 0.13907946959913473, accuracy test: 0.8722222222222222\n",
      "loss train: 0.09424450019577116, accuracy train: 0.10160055671537926\n",
      "loss test: 0.13835784414016955, accuracy test: 0.8694444444444445\n",
      "loss train: 0.0929534274858268, accuracy train: 0.10160055671537926\n",
      "loss test: 0.13767418005750087, accuracy test: 0.8722222222222222\n",
      "loss train: 0.09169889811882428, accuracy train: 0.10160055671537926\n",
      "loss test: 0.1370011383156773, accuracy test: 0.875\n",
      "loss train: 0.09046241207207494, accuracy train: 0.10160055671537926\n",
      "loss test: 0.13629581131961255, accuracy test: 0.875\n",
      "loss train: 0.0892532046246608, accuracy train: 0.10160055671537926\n",
      "loss test: 0.13555692393044197, accuracy test: 0.8777777777777778\n",
      "loss train: 0.08808512695211126, accuracy train: 0.10160055671537926\n",
      "loss test: 0.13485304113484692, accuracy test: 0.8777777777777778\n",
      "loss train: 0.08696894784127003, accuracy train: 0.10160055671537926\n",
      "loss test: 0.1341909886027117, accuracy test: 0.8833333333333333\n",
      "loss train: 0.08590343254916369, accuracy train: 0.10160055671537926\n",
      "loss test: 0.13355191630063742, accuracy test: 0.8833333333333333\n",
      "loss train: 0.08487977078520231, accuracy train: 0.10160055671537926\n",
      "loss test: 0.13292388907902009, accuracy test: 0.8833333333333333\n",
      "loss train: 0.08388941470532096, accuracy train: 0.10160055671537926\n",
      "loss test: 0.1323002859992449, accuracy test: 0.8833333333333333\n",
      "loss train: 0.08292641583481644, accuracy train: 0.10160055671537926\n",
      "loss test: 0.13168481643189525, accuracy test: 0.8833333333333333\n",
      "loss train: 0.0819901298393116, accuracy train: 0.10160055671537926\n",
      "loss test: 0.13109542733255725, accuracy test: 0.8861111111111111\n",
      "loss train: 0.08107806613472911, accuracy train: 0.10160055671537926\n",
      "loss test: 0.1305461699598642, accuracy test: 0.8861111111111111\n",
      "loss train: 0.08014709737920782, accuracy train: 0.10160055671537926\n",
      "loss test: 0.13003084696013867, accuracy test: 0.8944444444444445\n",
      "loss train: 0.07916775519431465, accuracy train: 0.10160055671537926\n",
      "loss test: 0.12954864258235882, accuracy test: 0.8972222222222223\n",
      "loss train: 0.07820325813063653, accuracy train: 0.10160055671537926\n",
      "loss test: 0.12913303585415414, accuracy test: 0.8972222222222223\n",
      "loss train: 0.07726945253694159, accuracy train: 0.10160055671537926\n",
      "loss test: 0.12876495324315337, accuracy test: 0.8972222222222223\n",
      "loss train: 0.07637214441582578, accuracy train: 0.10160055671537926\n",
      "loss test: 0.1284148555759177, accuracy test: 0.8944444444444445\n",
      "loss train: 0.07550890764504578, accuracy train: 0.10160055671537926\n",
      "loss test: 0.12806775157899805, accuracy test: 0.8944444444444445\n",
      "loss train: 0.07467045995677517, accuracy train: 0.10160055671537926\n",
      "loss test: 0.12771851859495276, accuracy test: 0.9\n",
      "loss train: 0.07385187172599599, accuracy train: 0.10160055671537926\n",
      "loss test: 0.1273677780024863, accuracy test: 0.9\n",
      "loss train: 0.07305063329741733, accuracy train: 0.1022964509394572\n",
      "loss test: 0.12701783577980558, accuracy test: 0.9027777777777778\n",
      "loss train: 0.07226565221598782, accuracy train: 0.1022964509394572\n",
      "loss test: 0.12666725215019767, accuracy test: 0.9027777777777778\n",
      "loss train: 0.07149260927389371, accuracy train: 0.1022964509394572\n",
      "loss test: 0.12630701587369558, accuracy test: 0.9055555555555556\n",
      "loss train: 0.07071258218382848, accuracy train: 0.1022964509394572\n",
      "loss test: 0.1259134190034966, accuracy test: 0.9055555555555556\n",
      "loss train: 0.06987142483095345, accuracy train: 0.1022964509394572\n",
      "loss test: 0.1254413319110548, accuracy test: 0.9055555555555556\n",
      "loss train: 0.06898429367901622, accuracy train: 0.1022964509394572\n",
      "loss test: 0.12502019164456044, accuracy test: 0.9055555555555556\n",
      "loss train: 0.06813893336205101, accuracy train: 0.1022964509394572\n",
      "loss test: 0.12468173271814327, accuracy test: 0.9055555555555556\n",
      "loss train: 0.06734093089789041, accuracy train: 0.10299234516353514\n",
      "loss test: 0.1244197596396654, accuracy test: 0.9055555555555556\n",
      "loss train: 0.06662175639285943, accuracy train: 0.10299234516353514\n",
      "loss test: 0.12416513210934702, accuracy test: 0.9055555555555556\n",
      "loss train: 0.06593735356775837, accuracy train: 0.10299234516353514\n",
      "loss test: 0.12390630173167524, accuracy test: 0.9027777777777778\n",
      "loss train: 0.06527852147275956, accuracy train: 0.10299234516353514\n",
      "loss test: 0.12364623038767629, accuracy test: 0.9027777777777778\n",
      "loss train: 0.06464425132759948, accuracy train: 0.10368823938761308\n",
      "loss test: 0.1233906823759941, accuracy test: 0.9083333333333333\n",
      "loss train: 0.0640341144677677, accuracy train: 0.10368823938761308\n",
      "loss test: 0.12314273199115255, accuracy test: 0.9083333333333333\n",
      "loss train: 0.06344609526169114, accuracy train: 0.10368823938761308\n",
      "loss test: 0.12290185567466783, accuracy test: 0.9083333333333333\n",
      "loss train: 0.06287745786819314, accuracy train: 0.10368823938761308\n",
      "loss test: 0.12266644483512916, accuracy test: 0.9111111111111111\n",
      "loss train: 0.06232557312462659, accuracy train: 0.10368823938761308\n",
      "loss test: 0.12243532376843015, accuracy test: 0.9111111111111111\n",
      "loss train: 0.06178823311710502, accuracy train: 0.10368823938761308\n",
      "loss test: 0.12220787163768393, accuracy test: 0.9111111111111111\n",
      "loss train: 0.0612637199447658, accuracy train: 0.10368823938761308\n",
      "loss test: 0.12198379745314498, accuracy test: 0.9111111111111111\n",
      "loss train: 0.060750724462258536, accuracy train: 0.10368823938761308\n",
      "loss test: 0.12176296764954975, accuracy test: 0.9111111111111111\n",
      "loss train: 0.060248170127397596, accuracy train: 0.10368823938761308\n",
      "loss test: 0.12154529230778835, accuracy test: 0.9083333333333333\n",
      "loss train: 0.05975501360404576, accuracy train: 0.10368823938761308\n",
      "loss test: 0.12133062746981783, accuracy test: 0.9083333333333333\n",
      "loss train: 0.05927012578478801, accuracy train: 0.10368823938761308\n",
      "loss test: 0.12111868328589584, accuracy test: 0.9083333333333333\n",
      "loss train: 0.05879230739523596, accuracy train: 0.10368823938761308\n",
      "loss test: 0.12090894506148112, accuracy test: 0.9055555555555556\n",
      "loss train: 0.058320419279203964, accuracy train: 0.10368823938761308\n",
      "loss test: 0.1207006419690532, accuracy test: 0.9055555555555556\n",
      "loss train: 0.05785361509305568, accuracy train: 0.10368823938761308\n",
      "loss test: 0.12049287730968476, accuracy test: 0.9055555555555556\n",
      "\n",
      "\n",
      "Train Completed!\n",
      "\n",
      "\n"
     ]
    }
   ],
   "source": [
    "for epoch in range(epochs):\n",
    "\n",
    "    # Train Part\n",
    "    \n",
    "    Y_pred_train = []\n",
    "    for x, y in zip(x_train, y_train):\n",
    "\n",
    "        # Forward Part\n",
    "        x = x.reshape(-1, 1)\n",
    "\n",
    "        # Layer 1\n",
    "        out1 = sigmoid(x.T @ W1 + B1)\n",
    "\n",
    "        # Layer 2\n",
    "        out2 = sigmoid(out1 @ W2 + B2)\n",
    "\n",
    "        # Layer 3\n",
    "        out3 = softmax(out2 @ W3 + B3)\n",
    "\n",
    "        y_pred = out3\n",
    "        Y_pred_train.append(y_pred)\n",
    "\n",
    "        # Back Propagation Part\n",
    "\n",
    "        # Layer 3\n",
    "        error = -2 * (y - y_pred)\n",
    "        grad_W3 = out2.T @ error\n",
    "        grad_B3 = error\n",
    "\n",
    "        # Layer 2\n",
    "        error = error @ W3.T * out2 * (1 - out2)\n",
    "        grad_W2 = out1.T @ error\n",
    "        grad_B2 = error\n",
    "\n",
    "        # Layer 1\n",
    "        error = error @ W2.T * out1 * (1 - out1)\n",
    "        grad_W1 = x @ error\n",
    "        grad_B1 = error\n",
    "\n",
    "        # update\n",
    "\n",
    "        # Layer 1\n",
    "        W1 -= lr * grad_W1\n",
    "        B1 -= lr * grad_B1\n",
    "        \n",
    "        # Layer 2\n",
    "        W2 -= lr * grad_W2\n",
    "        B2 -= lr * grad_B2\n",
    "\n",
    "        # Layer 3\n",
    "        W3 -= lr * grad_W3\n",
    "        B3 -= lr * grad_B3\n",
    "    \n",
    "    # Test Part\n",
    "\n",
    "    Y_pred_test = []\n",
    "    for x, y in zip(x_test, y_test):\n",
    "\n",
    "        x = x.reshape(-1, 1)\n",
    "\n",
    "        out1 = sigmoid(x.T @ W1 + B1)\n",
    "        out2 = sigmoid(out1 @ W2 + B2)\n",
    "        out3 = softmax(out2 @ W3 + B3)\n",
    "\n",
    "        Y_pred_test.append(out3.T)\n",
    "\n",
    "    Y_pred_train = np.array(Y_pred_train).reshape(-1, 10)\n",
    "    Y_pred_test = np.array(Y_pred_test).reshape(-1, 10)\n",
    "\n",
    "    loss_train, loss_test = root_mean_squired_error(Y_pred_train, y_train), root_mean_squired_error(Y_pred_test, y_test)\n",
    "    accuracy_train, accuracy_test = np.mean(np.argmax(Y_pred_train, axis=1) == np.argmax(y_pred, axis=1)), np.mean(np.argmax(Y_pred_test, axis=1) == np.argmax(y_test, axis=1))\n",
    "    \n",
    "    print(f'loss train: {loss_train}, accuracy train: {accuracy_train}')\n",
    "    print(f'loss test: {loss_test}, accuracy test: {accuracy_test}')\n",
    "\n",
    "print('\\n\\nTrain Completed!\\n\\n')"
   ]
  },
  {
   "cell_type": "code",
   "execution_count": 31,
   "metadata": {},
   "outputs": [
    {
     "data": {
      "text/plain": [
       "<matplotlib.image.AxesImage at 0x7fa9a1aa89d0>"
      ]
     },
     "execution_count": 31,
     "metadata": {},
     "output_type": "execute_result"
    },
    {
     "data": {
      "image/png": "[encoded data removed]",
      "text/plain": [
       "<Figure size 640x480 with 1 Axes>"
      ]
     },
     "metadata": {},
     "output_type": "display_data"
    }
   ],
   "source": [
    "import cv2 as cv\n",
    "import matplotlib.pyplot as plt\n",
    "\n",
    "image = cv.imread('input/test4.png')\n",
    "image = cv.cvtColor(image, cv.COLOR_BGR2GRAY)\n",
    "plt.imshow(image, cmap='gray')"
   ]
  },
  {
   "cell_type": "code",
   "execution_count": 32,
   "metadata": {},
   "outputs": [
    {
     "name": "stdout",
     "output_type": "stream",
     "text": [
      "y pred: [[0.26508363 0.99958    0.76564661 0.39855284 0.68909595 0.53594097\n",
      "  0.04866996 0.90924695 0.71917583 0.48228814]]\n",
      "1\n"
     ]
    }
   ],
   "source": [
    "image = image.reshape(64, 1)\n",
    "x = image\n",
    "\n",
    "# forward\n",
    "# layer 1\n",
    "out1 = sigmoid(x.T @ W1 + B1)\n",
    "\n",
    "# layer 2\n",
    "out2 = sigmoid(out1 @ W2 + B2)\n",
    "\n",
    "# layer 3\n",
    "out3 = sigmoid(out2 @ W3 + B3)\n",
    "y_pred = out3\n",
    "\n",
    "print(f'y pred: {y_pred}')\n",
    "print(np.argmax(y_pred))"
   ]
  },
  {
   "cell_type": "code",
   "execution_count": null,
   "metadata": {},
   "outputs": [],
   "source": []
  }
 ],
 "metadata": {
  "kernelspec": {
   "display_name": "Python 3",
   "language": "python",
   "name": "python3"
  },
  "language_info": {
   "codemirror_mode": {
    "name": "ipython",
    "version": 3
   },
   "file_extension": ".py",
   "mimetype": "text/x-python",
   "name": "python",
   "nbconvert_exporter": "python",
   "pygments_lexer": "ipython3",
   "version": "3.10.12"
  },
  "orig_nbformat": 4
 },
 "nbformat": 4,
 "nbformat_minor": 2
}
