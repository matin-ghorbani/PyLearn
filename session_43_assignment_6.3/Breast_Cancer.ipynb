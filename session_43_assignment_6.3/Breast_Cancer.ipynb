{
 "cells": [
  {
   "cell_type": "markdown",
   "id": "dc452676821ae34d",
   "metadata": {
    "collapsed": false
   },
   "source": [
    "# Matin Ghorbani 6.2.Assignment\n",
    "---"
   ]
  },
  {
   "cell_type": "markdown",
   "id": "2329cce5fad56a86",
   "metadata": {
    "collapsed": false
   },
   "source": [
    "## Import Dependencies"
   ]
  },
  {
   "cell_type": "code",
   "execution_count": 1,
   "id": "initial_id",
   "metadata": {
    "ExecuteTime": {
     "end_time": "2023-11-19T07:35:21.809570123Z",
     "start_time": "2023-11-19T07:35:21.239310604Z"
    },
    "collapsed": true
   },
   "outputs": [],
   "source": [
    "from sklearn.datasets import load_breast_cancer\n",
    "from sklearn.model_selection import train_test_split\n",
    "from knn_finding_nemo_dory import KNN\n",
    "import pandas as pd\n",
    "import matplotlib.pyplot as plt\n",
    "from sklearn.metrics import confusion_matrix\n",
    "from sklearn import metrics"
   ]
  },
  {
   "cell_type": "markdown",
   "id": "b9fc5247cb80d2b",
   "metadata": {
    "collapsed": false
   },
   "source": [
    "## Load the dataset with scikit-learn."
   ]
  },
  {
   "cell_type": "code",
   "execution_count": 2,
   "id": "b017fc35b743a708",
   "metadata": {
    "ExecuteTime": {
     "end_time": "2023-11-19T07:35:58.935543610Z",
     "start_time": "2023-11-19T07:35:58.888729252Z"
    },
    "collapsed": false
   },
   "outputs": [],
   "source": [
    "iris = load_breast_cancer()\n",
    "x = iris.data\n",
    "y = iris.target"
   ]
  },
  {
   "cell_type": "markdown",
   "id": "a514c333f9ee0eab",
   "metadata": {
    "collapsed": false
   },
   "source": [
    "## Split dataset to train and test datasets (%80 for train and %20 for test)."
   ]
  },
  {
   "cell_type": "code",
   "execution_count": 3,
   "id": "3c557fa92071447c",
   "metadata": {
    "ExecuteTime": {
     "end_time": "2023-11-19T07:36:37.703667172Z",
     "start_time": "2023-11-19T07:36:37.661669628Z"
    },
    "collapsed": false
   },
   "outputs": [],
   "source": [
    "x_train, x_test, y_train, y_test = train_test_split(x, y, test_size=.2)"
   ]
  },
  {
   "cell_type": "markdown",
   "id": "862f8bd88c8214fa",
   "metadata": {
    "collapsed": false
   },
   "source": [
    "## Implement and fit our object oriented KNN algorithm on the train dataset."
   ]
  },
  {
   "cell_type": "code",
   "execution_count": 4,
   "id": "b5a1a84684d0844e",
   "metadata": {
    "ExecuteTime": {
     "end_time": "2023-11-19T07:36:53.323471410Z",
     "start_time": "2023-11-19T07:36:53.280115667Z"
    },
    "collapsed": false
   },
   "outputs": [],
   "source": [
    "knn = KNN(7)\n",
    "knn.fit(x_train, y_train)"
   ]
  },
  {
   "cell_type": "markdown",
   "id": "ef9b72e92fb97c9e",
   "metadata": {
    "collapsed": false
   },
   "source": [
    "## Evaluate your KNN algorithm on the test dataset with different values of k = 3, 5, 7, ..."
   ]
  },
  {
   "cell_type": "code",
   "execution_count": 5,
   "id": "f593e079467358ca",
   "metadata": {
    "ExecuteTime": {
     "end_time": "2023-11-19T07:37:22.701856729Z",
     "start_time": "2023-11-19T07:37:22.630191809Z"
    },
    "collapsed": false
   },
   "outputs": [
    {
     "data": {
      "text/html": [
       "<div>\n",
       "<style scoped>\n",
       "    .dataframe tbody tr th:only-of-type {\n",
       "        vertical-align: middle;\n",
       "    }\n",
       "\n",
       "    .dataframe tbody tr th {\n",
       "        vertical-align: top;\n",
       "    }\n",
       "\n",
       "    .dataframe thead th {\n",
       "        text-align: right;\n",
       "    }\n",
       "</style>\n",
       "<table border=\"1\" class=\"dataframe\">\n",
       "  <thead>\n",
       "    <tr style=\"text-align: right;\">\n",
       "      <th></th>\n",
       "      <th>n_neighbors</th>\n",
       "      <th>scores</th>\n",
       "    </tr>\n",
       "  </thead>\n",
       "  <tbody>\n",
       "    <tr>\n",
       "      <th>0</th>\n",
       "      <td>1</td>\n",
       "      <td>0.903509</td>\n",
       "    </tr>\n",
       "    <tr>\n",
       "      <th>1</th>\n",
       "      <td>3</td>\n",
       "      <td>0.912281</td>\n",
       "    </tr>\n",
       "    <tr>\n",
       "      <th>2</th>\n",
       "      <td>5</td>\n",
       "      <td>0.921053</td>\n",
       "    </tr>\n",
       "    <tr>\n",
       "      <th>3</th>\n",
       "      <td>7</td>\n",
       "      <td>0.921053</td>\n",
       "    </tr>\n",
       "    <tr>\n",
       "      <th>4</th>\n",
       "      <td>9</td>\n",
       "      <td>0.921053</td>\n",
       "    </tr>\n",
       "    <tr>\n",
       "      <th>5</th>\n",
       "      <td>11</td>\n",
       "      <td>0.921053</td>\n",
       "    </tr>\n",
       "    <tr>\n",
       "      <th>6</th>\n",
       "      <td>13</td>\n",
       "      <td>0.912281</td>\n",
       "    </tr>\n",
       "    <tr>\n",
       "      <th>7</th>\n",
       "      <td>15</td>\n",
       "      <td>0.921053</td>\n",
       "    </tr>\n",
       "    <tr>\n",
       "      <th>8</th>\n",
       "      <td>17</td>\n",
       "      <td>0.921053</td>\n",
       "    </tr>\n",
       "    <tr>\n",
       "      <th>9</th>\n",
       "      <td>19</td>\n",
       "      <td>0.921053</td>\n",
       "    </tr>\n",
       "    <tr>\n",
       "      <th>10</th>\n",
       "      <td>21</td>\n",
       "      <td>0.921053</td>\n",
       "    </tr>\n",
       "  </tbody>\n",
       "</table>\n",
       "</div>"
      ],
      "text/plain": [
       "    n_neighbors    scores\n",
       "0             1  0.903509\n",
       "1             3  0.912281\n",
       "2             5  0.921053\n",
       "3             7  0.921053\n",
       "4             9  0.921053\n",
       "5            11  0.921053\n",
       "6            13  0.912281\n",
       "7            15  0.921053\n",
       "8            17  0.921053\n",
       "9            19  0.921053\n",
       "10           21  0.921053"
      ]
     },
     "execution_count": 5,
     "metadata": {},
     "output_type": "execute_result"
    }
   ],
   "source": [
    "df = pd.DataFrame()\n",
    "n_neighbors, scores = [], []\n",
    "\n",
    "for k in range(1, 22, 2):\n",
    "    knn = KNN(k)\n",
    "    knn.fit(x_train, y_train)\n",
    "    score = knn.evaluate(x_test, y_test)\n",
    "\n",
    "    n_neighbors.append(k)\n",
    "    scores.append(score)\n",
    "\n",
    "df['n_neighbors'] = n_neighbors\n",
    "df['scores'] = scores\n",
    "\n",
    "df"
   ]
  },
  {
   "cell_type": "markdown",
   "id": "64a1d3ee5c4f0fb8",
   "metadata": {
    "collapsed": false
   },
   "source": [
    "## Calculate confusion matrix for test dataset (3x3)."
   ]
  },
  {
   "cell_type": "code",
   "execution_count": 6,
   "id": "62d947bc4da58979",
   "metadata": {
    "ExecuteTime": {
     "end_time": "2023-11-19T07:38:33.624695894Z",
     "start_time": "2023-11-19T07:38:33.528937101Z"
    },
    "collapsed": false
   },
   "outputs": [
    {
     "data": {
      "image/png": "[encoded data removed]",
      "text/plain": [
       "<Figure size 640x480 with 2 Axes>"
      ]
     },
     "metadata": {},
     "output_type": "display_data"
    }
   ],
   "source": [
    "y_pred = knn.predict(x_test)\n",
    "confusion = confusion_matrix(y_test, y_pred)\n",
    "cm_display = metrics.ConfusionMatrixDisplay(confusion, display_labels=['Malignant', 'Benign'])\n",
    "cm_display.plot()\n",
    "plt.title('Confusion Matrix For Breast Cancer')\n",
    "plt.show()"
   ]
  },
  {
   "cell_type": "code",
   "execution_count": null,
   "id": "a20c40fad22cd0f6",
   "metadata": {
    "collapsed": false
   },
   "outputs": [],
   "source": []
  }
 ],
 "metadata": {
  "kernelspec": {
   "display_name": "Python 3",
   "language": "python",
   "name": "python3"
  },
  "language_info": {
   "codemirror_mode": {
    "name": "ipython",
    "version": 3
   },
   "file_extension": ".py",
   "mimetype": "text/x-python",
   "name": "python",
   "nbconvert_exporter": "python",
   "pygments_lexer": "ipython3",
   "version": "3.10.12"
  }
 },
 "nbformat": 4,
 "nbformat_minor": 5
}
