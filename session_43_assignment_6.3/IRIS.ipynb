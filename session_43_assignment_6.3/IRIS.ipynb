{
 "cells": [
  {
   "cell_type": "markdown",
   "source": [
    "# Matin Ghorbani 6.2.Assignment\n",
    "---"
   ],
   "metadata": {
    "collapsed": false
   },
   "id": "8372edc0b651ada6"
  },
  {
   "cell_type": "markdown",
   "source": [
    "## Import Dependencies"
   ],
   "metadata": {
    "collapsed": false
   },
   "id": "c3135995e1d650bf"
  },
  {
   "cell_type": "code",
   "execution_count": 28,
   "outputs": [],
   "source": [
    "from sklearn.datasets import load_iris\n",
    "from sklearn.model_selection import train_test_split\n",
    "from knn_finding_nemo_dory import KNN\n",
    "import pandas as pd\n",
    "import matplotlib.pyplot as plt\n",
    "from sklearn.metrics import confusion_matrix\n",
    "from sklearn import metrics"
   ],
   "metadata": {
    "collapsed": false,
    "ExecuteTime": {
     "end_time": "2023-11-19T07:31:45.971897959Z",
     "start_time": "2023-11-19T07:31:45.928684632Z"
    }
   },
   "id": "39c538290b2e8c7a"
  },
  {
   "cell_type": "markdown",
   "source": [
    "## Load the dataset with scikit-learn."
   ],
   "metadata": {
    "collapsed": false
   },
   "id": "c602510f1ef2bbd2"
  },
  {
   "cell_type": "code",
   "execution_count": 24,
   "id": "initial_id",
   "metadata": {
    "collapsed": true,
    "ExecuteTime": {
     "end_time": "2023-11-19T07:30:47.806555991Z",
     "start_time": "2023-11-19T07:30:47.788507244Z"
    }
   },
   "outputs": [],
   "source": [
    "iris = load_iris()\n",
    "x = iris.data\n",
    "y = iris.target"
   ]
  },
  {
   "cell_type": "markdown",
   "source": [
    "## Split dataset to train and test datasets (%80 for train and %20 for test)."
   ],
   "metadata": {
    "collapsed": false
   },
   "id": "56b2b44c822b74f0"
  },
  {
   "cell_type": "code",
   "execution_count": 25,
   "outputs": [],
   "source": [
    "x_train, x_test, y_train, y_test = train_test_split(x, y, test_size=.2)"
   ],
   "metadata": {
    "collapsed": false,
    "ExecuteTime": {
     "end_time": "2023-11-19T07:30:48.465238935Z",
     "start_time": "2023-11-19T07:30:48.454779224Z"
    }
   },
   "id": "f955d7a186cfe58f"
  },
  {
   "cell_type": "markdown",
   "source": [
    "## Implement and fit our object oriented KNN algorithm on the train dataset."
   ],
   "metadata": {
    "collapsed": false
   },
   "id": "41040a52f47bea52"
  },
  {
   "cell_type": "code",
   "execution_count": 26,
   "outputs": [],
   "source": [
    "knn = KNN(7)\n",
    "knn.fit(x_train, y_train)"
   ],
   "metadata": {
    "collapsed": false,
    "ExecuteTime": {
     "end_time": "2023-11-19T07:30:49.148928379Z",
     "start_time": "2023-11-19T07:30:49.142491527Z"
    }
   },
   "id": "a912edfd7a85e1d5"
  },
  {
   "cell_type": "markdown",
   "source": [
    "## Evaluate your KNN algorithm on the test dataset with different values of k = 3, 5, 7, ..."
   ],
   "metadata": {
    "collapsed": false
   },
   "id": "9884a11a91c1432b"
  },
  {
   "cell_type": "code",
   "execution_count": 27,
   "outputs": [
    {
     "data": {
      "text/plain": "    n_neighbors    scores\n0             1  0.966667\n1             3  0.966667\n2             5  1.000000\n3             7  1.000000\n4             9  0.966667\n5            11  0.966667\n6            13  0.966667\n7            15  0.966667\n8            17  1.000000\n9            19  0.966667\n10           21  1.000000",
      "text/html": "<div>\n<style scoped>\n    .dataframe tbody tr th:only-of-type {\n        vertical-align: middle;\n    }\n\n    .dataframe tbody tr th {\n        vertical-align: top;\n    }\n\n    .dataframe thead th {\n        text-align: right;\n    }\n</style>\n<table border=\"1\" class=\"dataframe\">\n  <thead>\n    <tr style=\"text-align: right;\">\n      <th></th>\n      <th>n_neighbors</th>\n      <th>scores</th>\n    </tr>\n  </thead>\n  <tbody>\n    <tr>\n      <th>0</th>\n      <td>1</td>\n      <td>0.966667</td>\n    </tr>\n    <tr>\n      <th>1</th>\n      <td>3</td>\n      <td>0.966667</td>\n    </tr>\n    <tr>\n      <th>2</th>\n      <td>5</td>\n      <td>1.000000</td>\n    </tr>\n    <tr>\n      <th>3</th>\n      <td>7</td>\n      <td>1.000000</td>\n    </tr>\n    <tr>\n      <th>4</th>\n      <td>9</td>\n      <td>0.966667</td>\n    </tr>\n    <tr>\n      <th>5</th>\n      <td>11</td>\n      <td>0.966667</td>\n    </tr>\n    <tr>\n      <th>6</th>\n      <td>13</td>\n      <td>0.966667</td>\n    </tr>\n    <tr>\n      <th>7</th>\n      <td>15</td>\n      <td>0.966667</td>\n    </tr>\n    <tr>\n      <th>8</th>\n      <td>17</td>\n      <td>1.000000</td>\n    </tr>\n    <tr>\n      <th>9</th>\n      <td>19</td>\n      <td>0.966667</td>\n    </tr>\n    <tr>\n      <th>10</th>\n      <td>21</td>\n      <td>1.000000</td>\n    </tr>\n  </tbody>\n</table>\n</div>"
     },
     "execution_count": 27,
     "metadata": {},
     "output_type": "execute_result"
    }
   ],
   "source": [
    "df = pd.DataFrame()\n",
    "n_neighbors, scores = [], []\n",
    "\n",
    "for k in range(1, 22, 2):\n",
    "    knn = KNN(k)\n",
    "    knn.fit(x_train, y_train)\n",
    "    score = knn.evaluate(x_test, y_test)\n",
    "\n",
    "    n_neighbors.append(k)\n",
    "    scores.append(score)\n",
    "\n",
    "df['n_neighbors'] = n_neighbors\n",
    "df['scores'] = scores\n",
    "\n",
    "df"
   ],
   "metadata": {
    "collapsed": false,
    "ExecuteTime": {
     "end_time": "2023-11-19T07:30:50.078527353Z",
     "start_time": "2023-11-19T07:30:50.062368903Z"
    }
   },
   "id": "7d8598743dbc446b"
  },
  {
   "cell_type": "markdown",
   "source": [
    "## Calculate confusion matrix for test dataset (3x3)."
   ],
   "metadata": {
    "collapsed": false
   },
   "id": "bbe4cad864b55751"
  },
  {
   "cell_type": "code",
   "execution_count": 29,
   "outputs": [
    {
     "data": {
      "text/plain": "<Figure size 640x480 with 2 Axes>",
      "image/png": "[encoded data removed]"
     },
     "metadata": {},
     "output_type": "display_data"
    }
   ],
   "source": [
    "y_pred = knn.predict(x_test)\n",
    "confusion = confusion_matrix(y_test, y_pred)\n",
    "cm_display = metrics.ConfusionMatrixDisplay(confusion, display_labels=['Setosa', 'Versicolour', 'Virginica'])\n",
    "cm_display.plot()\n",
    "plt.title('Confusion Matrix For Iris')\n",
    "plt.show()"
   ],
   "metadata": {
    "collapsed": false,
    "ExecuteTime": {
     "end_time": "2023-11-19T07:33:09.430150483Z",
     "start_time": "2023-11-19T07:33:09.335793548Z"
    }
   },
   "id": "cc02b01a00de489f"
  },
  {
   "cell_type": "code",
   "execution_count": null,
   "outputs": [],
   "source": [],
   "metadata": {
    "collapsed": false
   },
   "id": "db15a90c24c6ae2a"
  }
 ],
 "metadata": {
  "kernelspec": {
   "display_name": "Python 3",
   "language": "python",
   "name": "python3"
  },
  "language_info": {
   "codemirror_mode": {
    "name": "ipython",
    "version": 2
   },
   "file_extension": ".py",
   "mimetype": "text/x-python",
   "name": "python",
   "nbconvert_exporter": "python",
   "pygments_lexer": "ipython2",
   "version": "2.7.6"
  }
 },
 "nbformat": 4,
 "nbformat_minor": 5
}
