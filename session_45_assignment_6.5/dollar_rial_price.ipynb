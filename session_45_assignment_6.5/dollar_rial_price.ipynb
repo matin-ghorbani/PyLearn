{
 "cells": [
  {
   "cell_type": "markdown",
   "source": [
    "# Matin Ghorbani 6.5.Assignment\n",
    "---"
   ],
   "metadata": {
    "collapsed": false
   },
   "id": "ada7fe60204b4f9c"
  },
  {
   "cell_type": "markdown",
   "source": [
    "## Import Dependencies"
   ],
   "metadata": {
    "collapsed": false
   },
   "id": "a964166d5e68fdfe"
  },
  {
   "cell_type": "code",
   "execution_count": 2,
   "outputs": [],
   "source": [
    "import pandas as pd\n",
    "import numpy as np\n",
    "from lls import LinearLeastSquare\n",
    "from train_test_split import train_test_split\n",
    "from sklearn.metrics import mean_absolute_error"
   ],
   "metadata": {
    "collapsed": false,
    "ExecuteTime": {
     "end_time": "2023-11-26T17:08:22.445715059Z",
     "start_time": "2023-11-26T17:08:21.959881292Z"
    }
   },
   "id": "ffb8e0a4e97325e4"
  },
  {
   "cell_type": "markdown",
   "source": [
    "## Import the dataset"
   ],
   "metadata": {
    "collapsed": false
   },
   "id": "36de58c42fd2c3a3"
  },
  {
   "cell_type": "code",
   "execution_count": 3,
   "id": "initial_id",
   "metadata": {
    "collapsed": true,
    "ExecuteTime": {
     "end_time": "2023-11-26T17:08:22.499881663Z",
     "start_time": "2023-11-26T17:08:22.493609805Z"
    }
   },
   "outputs": [
    {
     "data": {
      "text/plain": "   Unnamed: 0        Date Persian_Date    Open     Low    High   Close\n0           0  11/27/2011   1390/09/06  13,700  13,700  13,700  13,700\n1           1  11/28/2011   1390/09/07  13,440  13,440  13,440  13,440\n2           2  11/29/2011   1390/09/08  13,350  13,350  13,350  13,350\n3           3  11/30/2011   1390/09/09  13,400  13,400  13,400  13,400\n4           4   12/1/2011   1390/09/10  13,500  13,500  13,500  13,500",
      "text/html": "<div>\n<style scoped>\n    .dataframe tbody tr th:only-of-type {\n        vertical-align: middle;\n    }\n\n    .dataframe tbody tr th {\n        vertical-align: top;\n    }\n\n    .dataframe thead th {\n        text-align: right;\n    }\n</style>\n<table border=\"1\" class=\"dataframe\">\n  <thead>\n    <tr style=\"text-align: right;\">\n      <th></th>\n      <th>Unnamed: 0</th>\n      <th>Date</th>\n      <th>Persian_Date</th>\n      <th>Open</th>\n      <th>Low</th>\n      <th>High</th>\n      <th>Close</th>\n    </tr>\n  </thead>\n  <tbody>\n    <tr>\n      <th>0</th>\n      <td>0</td>\n      <td>11/27/2011</td>\n      <td>1390/09/06</td>\n      <td>13,700</td>\n      <td>13,700</td>\n      <td>13,700</td>\n      <td>13,700</td>\n    </tr>\n    <tr>\n      <th>1</th>\n      <td>1</td>\n      <td>11/28/2011</td>\n      <td>1390/09/07</td>\n      <td>13,440</td>\n      <td>13,440</td>\n      <td>13,440</td>\n      <td>13,440</td>\n    </tr>\n    <tr>\n      <th>2</th>\n      <td>2</td>\n      <td>11/29/2011</td>\n      <td>1390/09/08</td>\n      <td>13,350</td>\n      <td>13,350</td>\n      <td>13,350</td>\n      <td>13,350</td>\n    </tr>\n    <tr>\n      <th>3</th>\n      <td>3</td>\n      <td>11/30/2011</td>\n      <td>1390/09/09</td>\n      <td>13,400</td>\n      <td>13,400</td>\n      <td>13,400</td>\n      <td>13,400</td>\n    </tr>\n    <tr>\n      <th>4</th>\n      <td>4</td>\n      <td>12/1/2011</td>\n      <td>1390/09/10</td>\n      <td>13,500</td>\n      <td>13,500</td>\n      <td>13,500</td>\n      <td>13,500</td>\n    </tr>\n  </tbody>\n</table>\n</div>"
     },
     "execution_count": 3,
     "metadata": {},
     "output_type": "execute_result"
    }
   ],
   "source": [
    "data = pd.read_csv('Dollar_Rial_Price_Dataset.csv')\n",
    "data.head()"
   ]
  },
  {
   "cell_type": "markdown",
   "source": [
    "#### Preprocessing on dataset"
   ],
   "metadata": {
    "collapsed": false
   },
   "id": "f28881c1ea45bbd4"
  },
  {
   "cell_type": "code",
   "execution_count": 4,
   "outputs": [
    {
     "data": {
      "text/plain": "         Date    Open     Low    High   Close\n0  11/27/2011  13,700  13,700  13,700  13,700\n1  11/28/2011  13,440  13,440  13,440  13,440\n2  11/29/2011  13,350  13,350  13,350  13,350\n3  11/30/2011  13,400  13,400  13,400  13,400\n4   12/1/2011  13,500  13,500  13,500  13,500",
      "text/html": "<div>\n<style scoped>\n    .dataframe tbody tr th:only-of-type {\n        vertical-align: middle;\n    }\n\n    .dataframe tbody tr th {\n        vertical-align: top;\n    }\n\n    .dataframe thead th {\n        text-align: right;\n    }\n</style>\n<table border=\"1\" class=\"dataframe\">\n  <thead>\n    <tr style=\"text-align: right;\">\n      <th></th>\n      <th>Date</th>\n      <th>Open</th>\n      <th>Low</th>\n      <th>High</th>\n      <th>Close</th>\n    </tr>\n  </thead>\n  <tbody>\n    <tr>\n      <th>0</th>\n      <td>11/27/2011</td>\n      <td>13,700</td>\n      <td>13,700</td>\n      <td>13,700</td>\n      <td>13,700</td>\n    </tr>\n    <tr>\n      <th>1</th>\n      <td>11/28/2011</td>\n      <td>13,440</td>\n      <td>13,440</td>\n      <td>13,440</td>\n      <td>13,440</td>\n    </tr>\n    <tr>\n      <th>2</th>\n      <td>11/29/2011</td>\n      <td>13,350</td>\n      <td>13,350</td>\n      <td>13,350</td>\n      <td>13,350</td>\n    </tr>\n    <tr>\n      <th>3</th>\n      <td>11/30/2011</td>\n      <td>13,400</td>\n      <td>13,400</td>\n      <td>13,400</td>\n      <td>13,400</td>\n    </tr>\n    <tr>\n      <th>4</th>\n      <td>12/1/2011</td>\n      <td>13,500</td>\n      <td>13,500</td>\n      <td>13,500</td>\n      <td>13,500</td>\n    </tr>\n  </tbody>\n</table>\n</div>"
     },
     "execution_count": 4,
     "metadata": {},
     "output_type": "execute_result"
    }
   ],
   "source": [
    "data.drop(['Unnamed: 0'], inplace=True, axis=1)\n",
    "data.drop(['Persian_Date'], inplace=True, axis=1)\n",
    "data.head()"
   ],
   "metadata": {
    "collapsed": false,
    "ExecuteTime": {
     "end_time": "2023-11-26T17:08:22.500428984Z",
     "start_time": "2023-11-26T17:08:22.493869648Z"
    }
   },
   "id": "c30b14f2f1e780c3"
  },
  {
   "cell_type": "code",
   "execution_count": 5,
   "outputs": [
    {
     "data": {
      "text/plain": "         Date   Open    Low   High  Close\n0  11/27/2011  13700  13700  13700  13700\n1  11/28/2011  13440  13440  13440  13440\n2  11/29/2011  13350  13350  13350  13350\n3  11/30/2011  13400  13400  13400  13400\n4   12/1/2011  13500  13500  13500  13500",
      "text/html": "<div>\n<style scoped>\n    .dataframe tbody tr th:only-of-type {\n        vertical-align: middle;\n    }\n\n    .dataframe tbody tr th {\n        vertical-align: top;\n    }\n\n    .dataframe thead th {\n        text-align: right;\n    }\n</style>\n<table border=\"1\" class=\"dataframe\">\n  <thead>\n    <tr style=\"text-align: right;\">\n      <th></th>\n      <th>Date</th>\n      <th>Open</th>\n      <th>Low</th>\n      <th>High</th>\n      <th>Close</th>\n    </tr>\n  </thead>\n  <tbody>\n    <tr>\n      <th>0</th>\n      <td>11/27/2011</td>\n      <td>13700</td>\n      <td>13700</td>\n      <td>13700</td>\n      <td>13700</td>\n    </tr>\n    <tr>\n      <th>1</th>\n      <td>11/28/2011</td>\n      <td>13440</td>\n      <td>13440</td>\n      <td>13440</td>\n      <td>13440</td>\n    </tr>\n    <tr>\n      <th>2</th>\n      <td>11/29/2011</td>\n      <td>13350</td>\n      <td>13350</td>\n      <td>13350</td>\n      <td>13350</td>\n    </tr>\n    <tr>\n      <th>3</th>\n      <td>11/30/2011</td>\n      <td>13400</td>\n      <td>13400</td>\n      <td>13400</td>\n      <td>13400</td>\n    </tr>\n    <tr>\n      <th>4</th>\n      <td>12/1/2011</td>\n      <td>13500</td>\n      <td>13500</td>\n      <td>13500</td>\n      <td>13500</td>\n    </tr>\n  </tbody>\n</table>\n</div>"
     },
     "execution_count": 5,
     "metadata": {},
     "output_type": "execute_result"
    }
   ],
   "source": [
    "def my_func(x: str):\n",
    "    return x.replace(',', '')\n",
    "\n",
    "\n",
    "data.drop_duplicates(inplace=True)\n",
    "data['High'] = data['High'].apply(my_func)\n",
    "data['Low'] = data['Low'].apply(my_func)\n",
    "data['Open'] = data['Open'].apply(my_func)\n",
    "data['Close'] = data['Close'].apply(my_func)\n",
    "data.head()"
   ],
   "metadata": {
    "collapsed": false,
    "ExecuteTime": {
     "end_time": "2023-11-26T17:08:22.500818380Z",
     "start_time": "2023-11-26T17:08:22.493980227Z"
    }
   },
   "id": "92c4ea4c681e0e08"
  },
  {
   "cell_type": "code",
   "execution_count": 6,
   "outputs": [],
   "source": [
    "data['High'] = pd.to_numeric(data['High'], errors='coerce')\n",
    "data['Low'] = pd.to_numeric(data['Low'], errors='coerce')\n",
    "data['Open'] = pd.to_numeric(data['Open'], errors='coerce')\n",
    "data['Close'] = pd.to_numeric(data['Close'], errors='coerce')"
   ],
   "metadata": {
    "collapsed": false,
    "ExecuteTime": {
     "end_time": "2023-11-26T17:08:22.501293406Z",
     "start_time": "2023-11-26T17:08:22.494155357Z"
    }
   },
   "id": "de49341a1fc5c18f"
  },
  {
   "cell_type": "markdown",
   "source": [
    "## Divide dataset to Ahmadinejad, Rouhani and Raisi's presidency"
   ],
   "metadata": {
    "collapsed": false
   },
   "id": "4f963d2cd0e0d36b"
  },
  {
   "cell_type": "code",
   "execution_count": 7,
   "outputs": [
    {
     "data": {
      "text/plain": "   index       Date   Open    Low   High  Close\n0    482 2013-08-03  32100  32050  32900  32850\n1    483 2013-08-04  32650  32400  32800  32400\n2    484 2013-08-05  32150  31900  32200  32000\n3    485 2013-08-06  31900  31750  31950  31900\n4    486 2013-08-07  32050  32050  32350  32250",
      "text/html": "<div>\n<style scoped>\n    .dataframe tbody tr th:only-of-type {\n        vertical-align: middle;\n    }\n\n    .dataframe tbody tr th {\n        vertical-align: top;\n    }\n\n    .dataframe thead th {\n        text-align: right;\n    }\n</style>\n<table border=\"1\" class=\"dataframe\">\n  <thead>\n    <tr style=\"text-align: right;\">\n      <th></th>\n      <th>index</th>\n      <th>Date</th>\n      <th>Open</th>\n      <th>Low</th>\n      <th>High</th>\n      <th>Close</th>\n    </tr>\n  </thead>\n  <tbody>\n    <tr>\n      <th>0</th>\n      <td>482</td>\n      <td>2013-08-03</td>\n      <td>32100</td>\n      <td>32050</td>\n      <td>32900</td>\n      <td>32850</td>\n    </tr>\n    <tr>\n      <th>1</th>\n      <td>483</td>\n      <td>2013-08-04</td>\n      <td>32650</td>\n      <td>32400</td>\n      <td>32800</td>\n      <td>32400</td>\n    </tr>\n    <tr>\n      <th>2</th>\n      <td>484</td>\n      <td>2013-08-05</td>\n      <td>32150</td>\n      <td>31900</td>\n      <td>32200</td>\n      <td>32000</td>\n    </tr>\n    <tr>\n      <th>3</th>\n      <td>485</td>\n      <td>2013-08-06</td>\n      <td>31900</td>\n      <td>31750</td>\n      <td>31950</td>\n      <td>31900</td>\n    </tr>\n    <tr>\n      <th>4</th>\n      <td>486</td>\n      <td>2013-08-07</td>\n      <td>32050</td>\n      <td>32050</td>\n      <td>32350</td>\n      <td>32250</td>\n    </tr>\n  </tbody>\n</table>\n</div>"
     },
     "execution_count": 7,
     "metadata": {},
     "output_type": "execute_result"
    }
   ],
   "source": [
    "data['Date'] = pd.to_datetime(data['Date'], format=\"%m/%d/%Y\")\n",
    "ahmadinejad_presidency = data.loc[(data['Date'] >= \"11/27/2011\") & (data['Date'] < \"08/03/2013\")].reset_index()\n",
    "rohani_presidency = data.loc[(data['Date'] >= \"08/03/2013\") & (data['Date'] < \"08/03/2021\")].reset_index()\n",
    "raisi_presidency = data.loc[(data['Date'] >= \"08/03/2021\") & (data['Date'] < \"07/26/2023\")].reset_index()\n",
    "\n",
    "rohani_presidency.head()"
   ],
   "metadata": {
    "collapsed": false,
    "ExecuteTime": {
     "end_time": "2023-11-26T17:08:22.542963681Z",
     "start_time": "2023-11-26T17:08:22.499416081Z"
    }
   },
   "id": "8015d65619e5a60"
  },
  {
   "cell_type": "markdown",
   "source": [
    "## Show the highest dollar price in Ahmadinejad, Rouhani and Raisi's presidency respectively"
   ],
   "metadata": {
    "collapsed": false
   },
   "id": "c90df47cb489c463"
  },
  {
   "cell_type": "code",
   "execution_count": 8,
   "outputs": [
    {
     "name": "stdout",
     "output_type": "stream",
     "text": [
      "\n",
      "highest dollar price of ahmadinejad presidency is 39700 Rial.\n",
      "\n",
      "highest dollar price of rohani presidency is 320060 Rial.\n",
      "\n",
      "highest dollar price of raisi presidency is 555600 Rial.\n"
     ]
    }
   ],
   "source": [
    "print(f'\\nhighest dollar price of ahmadinejad presidency is {ahmadinejad_presidency[\"High\"].max()} Rial.\\n')\n",
    "print(f'highest dollar price of rohani presidency is {rohani_presidency[\"High\"].max()} Rial.\\n')\n",
    "print(f'highest dollar price of raisi presidency is {raisi_presidency[\"High\"].max()} Rial.\\n')"
   ],
   "metadata": {
    "collapsed": false,
    "ExecuteTime": {
     "end_time": "2023-11-26T17:08:22.609830816Z",
     "start_time": "2023-11-26T17:08:22.523048754Z"
    }
   },
   "id": "c94a574690ba99fe"
  },
  {
   "cell_type": "markdown",
   "source": [
    "## Show the lowest dollar price in Ahmadinejad, Rouhani and Raisi's presidency respectively"
   ],
   "metadata": {
    "collapsed": false
   },
   "id": "3a972047a9110449"
  },
  {
   "cell_type": "code",
   "execution_count": 9,
   "outputs": [
    {
     "name": "stdout",
     "output_type": "stream",
     "text": [
      "\n",
      "lowest dollar price of ahmadinejad presidency is 13350 Rial.\n",
      "\n",
      "lowest dollar price of rohani presidency is 12850 Rial.\n",
      "\n",
      "lowest dollar price of raisi presidency is 251250 Rial.\n"
     ]
    }
   ],
   "source": [
    "print(f'\\nlowest dollar price of ahmadinejad presidency is {ahmadinejad_presidency[\"Low\"].min()} Rial.\\n')\n",
    "print(f'lowest dollar price of rohani presidency is {rohani_presidency[\"Low\"].min()} Rial.\\n')\n",
    "print(f'lowest dollar price of raisi presidency is {raisi_presidency[\"Low\"].min()} Rial.\\n')"
   ],
   "metadata": {
    "collapsed": false,
    "ExecuteTime": {
     "end_time": "2023-11-26T17:08:22.621700761Z",
     "start_time": "2023-11-26T17:08:22.529042316Z"
    }
   },
   "id": "74223303c7db67b9"
  },
  {
   "cell_type": "markdown",
   "source": [
    "## Split each dataset to train and test with train_test_split function"
   ],
   "metadata": {
    "collapsed": false
   },
   "id": "e372e6bc964670eb"
  },
  {
   "cell_type": "code",
   "execution_count": 10,
   "outputs": [],
   "source": [
    "x_ahmadinejad = ahmadinejad_presidency['Date'].values.astype(np.int64)\n",
    "y_ahmadinejad = ahmadinejad_presidency['High'].values\n",
    "\n",
    "ah_x_train, ah_x_test, ah_y_train, ah_y_test = train_test_split(x_ahmadinejad, y_ahmadinejad)\n",
    "ah_x_train, ah_x_test, ah_y_train, ah_y_test  = ah_x_train.reshape(-1, 1), ah_x_test.reshape(-1, 1), ah_y_train.reshape(-1, 1), ah_y_test.reshape(-1, 1)"
   ],
   "metadata": {
    "collapsed": false,
    "ExecuteTime": {
     "end_time": "2023-11-26T17:08:22.681172692Z",
     "start_time": "2023-11-26T17:08:22.548609365Z"
    }
   },
   "id": "de1a06a619fce6d4"
  },
  {
   "cell_type": "code",
   "execution_count": 11,
   "outputs": [],
   "source": [
    "x_rohani = rohani_presidency['Date'].values.astype(np.int64)\n",
    "y_rohani = rohani_presidency['High'].values\n",
    "\n",
    "ro_x_train, ro_x_test, ro_y_train, ro_y_test = train_test_split(x_rohani, y_rohani)\n",
    "ro_x_train, ro_x_test, ro_y_train, ro_y_test  = ro_x_train.reshape(-1, 1), ro_x_test.reshape(-1, 1), ro_y_train.reshape(-1, 1), ro_y_test.reshape(-1, 1)"
   ],
   "metadata": {
    "collapsed": false,
    "ExecuteTime": {
     "end_time": "2023-11-26T17:08:22.681418683Z",
     "start_time": "2023-11-26T17:08:22.589351586Z"
    }
   },
   "id": "7c6a176d6138638"
  },
  {
   "cell_type": "code",
   "execution_count": 12,
   "outputs": [],
   "source": [
    "x_raisi = raisi_presidency['Date'].values.astype(np.int64)\n",
    "y_raisi = raisi_presidency['High'].values\n",
    "\n",
    "\n",
    "rai_x_train, rai_x_test, rai_y_train, rai_y_test = train_test_split(x_rohani, y_rohani)\n",
    "rai_x_train, rai_x_test, rai_y_train, rai_y_test  = rai_x_train.reshape(-1, 1), rai_x_test.reshape(-1, 1), rai_y_train.reshape(-1, 1), rai_y_test.reshape(-1, 1)"
   ],
   "metadata": {
    "collapsed": false,
    "ExecuteTime": {
     "end_time": "2023-11-26T17:08:22.681528385Z",
     "start_time": "2023-11-26T17:08:22.589497887Z"
    }
   },
   "id": "733ed5fec1d3dc2a"
  },
  {
   "cell_type": "markdown",
   "source": [
    "## Fit the LLS model on each training dataset"
   ],
   "metadata": {
    "collapsed": false
   },
   "id": "850da97f12ff52d"
  },
  {
   "cell_type": "code",
   "execution_count": 13,
   "outputs": [],
   "source": [
    "lls_ah = LinearLeastSquare()\n",
    "lls_ah.fit(ah_x_train, ah_y_train)\n",
    "ah_y_pred = lls_ah.predict(ah_x_test)"
   ],
   "metadata": {
    "collapsed": false,
    "ExecuteTime": {
     "end_time": "2023-11-26T17:08:22.695599029Z",
     "start_time": "2023-11-26T17:08:22.589573633Z"
    }
   },
   "id": "bfdc699cae0432b3"
  },
  {
   "cell_type": "code",
   "execution_count": 14,
   "outputs": [],
   "source": [
    "lls_ro = LinearLeastSquare()\n",
    "lls_ro.fit(ro_x_train, ro_y_train)\n",
    "ro_y_pred = lls_ro.predict(ro_x_test)"
   ],
   "metadata": {
    "collapsed": false,
    "ExecuteTime": {
     "end_time": "2023-11-26T17:08:22.695827638Z",
     "start_time": "2023-11-26T17:08:22.633313227Z"
    }
   },
   "id": "d99a8540c231402"
  },
  {
   "cell_type": "code",
   "execution_count": 15,
   "outputs": [],
   "source": [
    "lls_rai = LinearLeastSquare()\n",
    "lls_rai.fit(rai_x_train, rai_y_train)\n",
    "rai_y_pred = lls_rai.predict(rai_x_test)"
   ],
   "metadata": {
    "collapsed": false,
    "ExecuteTime": {
     "end_time": "2023-11-26T17:08:22.695936300Z",
     "start_time": "2023-11-26T17:08:22.633476935Z"
    }
   },
   "id": "c9fcf7b61e53986c"
  },
  {
   "cell_type": "markdown",
   "source": [
    "## Evaluate each model on test dataset using MAE loss function in Scikit-Learn"
   ],
   "metadata": {
    "collapsed": false
   },
   "id": "4712a7c9b930ea4e"
  },
  {
   "cell_type": "code",
   "execution_count": 16,
   "outputs": [
    {
     "name": "stdout",
     "output_type": "stream",
     "text": [
      "\n",
      "MAE of ahmadinejad is 8.012520406550505e+24.\n",
      "\n",
      "MAE of rohani is 4.336138087068453e+25.\n",
      "\n",
      "MAE of raisi is 5.167434032154374e+25.\n"
     ]
    }
   ],
   "source": [
    "print(f'\\nMAE of ahmadinejad is {mean_absolute_error(ah_y_test, ah_y_pred)}.\\n')\n",
    "print(f'MAE of rohani is {mean_absolute_error(ro_y_test, ro_y_pred)}.\\n')\n",
    "print(f'MAE of raisi is {mean_absolute_error(rai_y_test, rai_y_pred)}.\\n')"
   ],
   "metadata": {
    "collapsed": false,
    "ExecuteTime": {
     "end_time": "2023-11-26T17:08:22.703142228Z",
     "start_time": "2023-11-26T17:08:22.633570864Z"
    }
   },
   "id": "f12db74fbee38723"
  },
  {
   "cell_type": "code",
   "execution_count": 16,
   "outputs": [],
   "source": [],
   "metadata": {
    "collapsed": false,
    "ExecuteTime": {
     "end_time": "2023-11-26T17:08:22.714388489Z",
     "start_time": "2023-11-26T17:08:22.633770145Z"
    }
   },
   "id": "aed7b5777bbf4695"
  }
 ],
 "metadata": {
  "kernelspec": {
   "display_name": "Python 3",
   "language": "python",
   "name": "python3"
  },
  "language_info": {
   "codemirror_mode": {
    "name": "ipython",
    "version": 2
   },
   "file_extension": ".py",
   "mimetype": "text/x-python",
   "name": "python",
   "nbconvert_exporter": "python",
   "pygments_lexer": "ipython2",
   "version": "2.7.6"
  }
 },
 "nbformat": 4,
 "nbformat_minor": 5
}
