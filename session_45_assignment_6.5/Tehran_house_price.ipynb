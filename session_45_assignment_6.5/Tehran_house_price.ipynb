{
 "cells": [
  {
   "cell_type": "markdown",
   "source": [
    "# Matin Ghorbani 6.5.Assignment\n",
    "---"
   ],
   "metadata": {
    "collapsed": false
   },
   "id": "ed69aed7c9419554"
  },
  {
   "cell_type": "markdown",
   "source": [
    "## Import Dependencies"
   ],
   "metadata": {
    "collapsed": false
   },
   "id": "41d35de65b2b9e87"
  },
  {
   "cell_type": "code",
   "execution_count": 18,
   "id": "initial_id",
   "metadata": {
    "collapsed": true,
    "ExecuteTime": {
     "end_time": "2023-11-26T15:06:09.633493616Z",
     "start_time": "2023-11-26T15:06:09.588760366Z"
    }
   },
   "outputs": [],
   "source": [
    "import numpy as np\n",
    "import matplotlib.pyplot as plt\n",
    "import pandas as pd\n",
    "from lls import LinearLeastSquare\n",
    "from train_test_split import train_test_split\n",
    "from sklearn.linear_model import LinearRegression\n",
    "from sklearn.linear_model import RidgeCV\n",
    "from sklearn.metrics import mean_squared_error, mean_absolute_error"
   ]
  },
  {
   "cell_type": "markdown",
   "source": [
    "## Import The Dataset"
   ],
   "metadata": {
    "collapsed": false
   },
   "id": "95a5b82d78f8637b"
  },
  {
   "cell_type": "code",
   "execution_count": 2,
   "outputs": [
    {
     "data": {
      "text/plain": "   Area  Room  Parking  Warehouse  Elevator         Address         Price  \\\n0    63     1     True       True      True         Shahran  1.850000e+09   \n1    60     1     True       True      True         Shahran  1.850000e+09   \n2    79     2     True       True      True          Pardis  5.500000e+08   \n3    95     2     True       True      True   Shahrake Qods  9.025000e+08   \n4   123     2     True       True      True  Shahrake Gharb  7.000000e+09   \n\n   Price(USD)  \n0    61666.67  \n1    61666.67  \n2    18333.33  \n3    30083.33  \n4   233333.33  ",
      "text/html": "<div>\n<style scoped>\n    .dataframe tbody tr th:only-of-type {\n        vertical-align: middle;\n    }\n\n    .dataframe tbody tr th {\n        vertical-align: top;\n    }\n\n    .dataframe thead th {\n        text-align: right;\n    }\n</style>\n<table border=\"1\" class=\"dataframe\">\n  <thead>\n    <tr style=\"text-align: right;\">\n      <th></th>\n      <th>Area</th>\n      <th>Room</th>\n      <th>Parking</th>\n      <th>Warehouse</th>\n      <th>Elevator</th>\n      <th>Address</th>\n      <th>Price</th>\n      <th>Price(USD)</th>\n    </tr>\n  </thead>\n  <tbody>\n    <tr>\n      <th>0</th>\n      <td>63</td>\n      <td>1</td>\n      <td>True</td>\n      <td>True</td>\n      <td>True</td>\n      <td>Shahran</td>\n      <td>1.850000e+09</td>\n      <td>61666.67</td>\n    </tr>\n    <tr>\n      <th>1</th>\n      <td>60</td>\n      <td>1</td>\n      <td>True</td>\n      <td>True</td>\n      <td>True</td>\n      <td>Shahran</td>\n      <td>1.850000e+09</td>\n      <td>61666.67</td>\n    </tr>\n    <tr>\n      <th>2</th>\n      <td>79</td>\n      <td>2</td>\n      <td>True</td>\n      <td>True</td>\n      <td>True</td>\n      <td>Pardis</td>\n      <td>5.500000e+08</td>\n      <td>18333.33</td>\n    </tr>\n    <tr>\n      <th>3</th>\n      <td>95</td>\n      <td>2</td>\n      <td>True</td>\n      <td>True</td>\n      <td>True</td>\n      <td>Shahrake Qods</td>\n      <td>9.025000e+08</td>\n      <td>30083.33</td>\n    </tr>\n    <tr>\n      <th>4</th>\n      <td>123</td>\n      <td>2</td>\n      <td>True</td>\n      <td>True</td>\n      <td>True</td>\n      <td>Shahrake Gharb</td>\n      <td>7.000000e+09</td>\n      <td>233333.33</td>\n    </tr>\n  </tbody>\n</table>\n</div>"
     },
     "execution_count": 2,
     "metadata": {},
     "output_type": "execute_result"
    }
   ],
   "source": [
    "data = pd.read_csv('HousePrice.csv')\n",
    "data.head()"
   ],
   "metadata": {
    "collapsed": false,
    "ExecuteTime": {
     "end_time": "2023-11-26T14:57:48.457621566Z",
     "start_time": "2023-11-26T14:57:48.443138670Z"
    }
   },
   "id": "13cceb04ab62fa5"
  },
  {
   "cell_type": "markdown",
   "source": [
    "## Preprocess data and update dollar price to july 2023."
   ],
   "metadata": {
    "collapsed": false
   },
   "id": "d3c9a931522361fe"
  },
  {
   "cell_type": "markdown",
   "source": [
    "### Removing the duplicates dates"
   ],
   "metadata": {
    "collapsed": false
   },
   "id": "c3b5ea37b593e645"
  },
  {
   "cell_type": "code",
   "execution_count": 3,
   "outputs": [
    {
     "data": {
      "text/plain": "   Area  Room  Parking  Warehouse  Elevator         Address         Price  \\\n0    63     1     True       True      True         Shahran  1.850000e+09   \n1    60     1     True       True      True         Shahran  1.850000e+09   \n2    79     2     True       True      True          Pardis  5.500000e+08   \n3    95     2     True       True      True   Shahrake Qods  9.025000e+08   \n4   123     2     True       True      True  Shahrake Gharb  7.000000e+09   \n\n   Price(USD)  \n0    61666.67  \n1    61666.67  \n2    18333.33  \n3    30083.33  \n4   233333.33  ",
      "text/html": "<div>\n<style scoped>\n    .dataframe tbody tr th:only-of-type {\n        vertical-align: middle;\n    }\n\n    .dataframe tbody tr th {\n        vertical-align: top;\n    }\n\n    .dataframe thead th {\n        text-align: right;\n    }\n</style>\n<table border=\"1\" class=\"dataframe\">\n  <thead>\n    <tr style=\"text-align: right;\">\n      <th></th>\n      <th>Area</th>\n      <th>Room</th>\n      <th>Parking</th>\n      <th>Warehouse</th>\n      <th>Elevator</th>\n      <th>Address</th>\n      <th>Price</th>\n      <th>Price(USD)</th>\n    </tr>\n  </thead>\n  <tbody>\n    <tr>\n      <th>0</th>\n      <td>63</td>\n      <td>1</td>\n      <td>True</td>\n      <td>True</td>\n      <td>True</td>\n      <td>Shahran</td>\n      <td>1.850000e+09</td>\n      <td>61666.67</td>\n    </tr>\n    <tr>\n      <th>1</th>\n      <td>60</td>\n      <td>1</td>\n      <td>True</td>\n      <td>True</td>\n      <td>True</td>\n      <td>Shahran</td>\n      <td>1.850000e+09</td>\n      <td>61666.67</td>\n    </tr>\n    <tr>\n      <th>2</th>\n      <td>79</td>\n      <td>2</td>\n      <td>True</td>\n      <td>True</td>\n      <td>True</td>\n      <td>Pardis</td>\n      <td>5.500000e+08</td>\n      <td>18333.33</td>\n    </tr>\n    <tr>\n      <th>3</th>\n      <td>95</td>\n      <td>2</td>\n      <td>True</td>\n      <td>True</td>\n      <td>True</td>\n      <td>Shahrake Qods</td>\n      <td>9.025000e+08</td>\n      <td>30083.33</td>\n    </tr>\n    <tr>\n      <th>4</th>\n      <td>123</td>\n      <td>2</td>\n      <td>True</td>\n      <td>True</td>\n      <td>True</td>\n      <td>Shahrake Gharb</td>\n      <td>7.000000e+09</td>\n      <td>233333.33</td>\n    </tr>\n  </tbody>\n</table>\n</div>"
     },
     "execution_count": 3,
     "metadata": {},
     "output_type": "execute_result"
    }
   ],
   "source": [
    "data.drop_duplicates(inplace=True)\n",
    "data.head()"
   ],
   "metadata": {
    "collapsed": false,
    "ExecuteTime": {
     "end_time": "2023-11-26T14:57:49.406504235Z",
     "start_time": "2023-11-26T14:57:49.396422899Z"
    }
   },
   "id": "438f27f6ff399654"
  },
  {
   "cell_type": "markdown",
   "source": [
    "### Removing the null dates"
   ],
   "metadata": {
    "collapsed": false
   },
   "id": "2151368f9fb2099e"
  },
  {
   "cell_type": "code",
   "execution_count": 4,
   "outputs": [
    {
     "data": {
      "text/plain": "Area           0\nRoom           0\nParking        0\nWarehouse      0\nElevator       0\nAddress       23\nPrice          0\nPrice(USD)     0\ndtype: int64"
     },
     "execution_count": 4,
     "metadata": {},
     "output_type": "execute_result"
    }
   ],
   "source": [
    "data.isnull().sum()"
   ],
   "metadata": {
    "collapsed": false,
    "ExecuteTime": {
     "end_time": "2023-11-26T14:57:49.961979914Z",
     "start_time": "2023-11-26T14:57:49.957232086Z"
    }
   },
   "id": "ca892f72f07ded89"
  },
  {
   "cell_type": "code",
   "execution_count": 5,
   "outputs": [
    {
     "data": {
      "text/plain": "   Area  Room  Parking  Warehouse  Elevator         Address         Price  \\\n0    63     1     True       True      True         Shahran  1.850000e+09   \n1    60     1     True       True      True         Shahran  1.850000e+09   \n2    79     2     True       True      True          Pardis  5.500000e+08   \n3    95     2     True       True      True   Shahrake Qods  9.025000e+08   \n4   123     2     True       True      True  Shahrake Gharb  7.000000e+09   \n\n   Price(USD)  \n0    61666.67  \n1    61666.67  \n2    18333.33  \n3    30083.33  \n4   233333.33  ",
      "text/html": "<div>\n<style scoped>\n    .dataframe tbody tr th:only-of-type {\n        vertical-align: middle;\n    }\n\n    .dataframe tbody tr th {\n        vertical-align: top;\n    }\n\n    .dataframe thead th {\n        text-align: right;\n    }\n</style>\n<table border=\"1\" class=\"dataframe\">\n  <thead>\n    <tr style=\"text-align: right;\">\n      <th></th>\n      <th>Area</th>\n      <th>Room</th>\n      <th>Parking</th>\n      <th>Warehouse</th>\n      <th>Elevator</th>\n      <th>Address</th>\n      <th>Price</th>\n      <th>Price(USD)</th>\n    </tr>\n  </thead>\n  <tbody>\n    <tr>\n      <th>0</th>\n      <td>63</td>\n      <td>1</td>\n      <td>True</td>\n      <td>True</td>\n      <td>True</td>\n      <td>Shahran</td>\n      <td>1.850000e+09</td>\n      <td>61666.67</td>\n    </tr>\n    <tr>\n      <th>1</th>\n      <td>60</td>\n      <td>1</td>\n      <td>True</td>\n      <td>True</td>\n      <td>True</td>\n      <td>Shahran</td>\n      <td>1.850000e+09</td>\n      <td>61666.67</td>\n    </tr>\n    <tr>\n      <th>2</th>\n      <td>79</td>\n      <td>2</td>\n      <td>True</td>\n      <td>True</td>\n      <td>True</td>\n      <td>Pardis</td>\n      <td>5.500000e+08</td>\n      <td>18333.33</td>\n    </tr>\n    <tr>\n      <th>3</th>\n      <td>95</td>\n      <td>2</td>\n      <td>True</td>\n      <td>True</td>\n      <td>True</td>\n      <td>Shahrake Qods</td>\n      <td>9.025000e+08</td>\n      <td>30083.33</td>\n    </tr>\n    <tr>\n      <th>4</th>\n      <td>123</td>\n      <td>2</td>\n      <td>True</td>\n      <td>True</td>\n      <td>True</td>\n      <td>Shahrake Gharb</td>\n      <td>7.000000e+09</td>\n      <td>233333.33</td>\n    </tr>\n  </tbody>\n</table>\n</div>"
     },
     "execution_count": 5,
     "metadata": {},
     "output_type": "execute_result"
    }
   ],
   "source": [
    "data.dropna(inplace=True)\n",
    "data.reset_index(drop=True, inplace=True)\n",
    "data.head()"
   ],
   "metadata": {
    "collapsed": false,
    "ExecuteTime": {
     "end_time": "2023-11-26T14:57:50.229414460Z",
     "start_time": "2023-11-26T14:57:50.218894118Z"
    }
   },
   "id": "6ae062b390b27e20"
  },
  {
   "cell_type": "markdown",
   "source": [
    "### Conversion of 30 tomans dollars to 50 tomans"
   ],
   "metadata": {
    "collapsed": false
   },
   "id": "b1db7e405734a5a0"
  },
  {
   "cell_type": "code",
   "execution_count": 6,
   "outputs": [
    {
     "data": {
      "text/plain": "   Area  Room  Parking  Warehouse  Elevator         Address         Price  \\\n0    63     1     True       True      True         Shahran  1.850000e+09   \n1    60     1     True       True      True         Shahran  1.850000e+09   \n2    79     2     True       True      True          Pardis  5.500000e+08   \n3    95     2     True       True      True   Shahrake Qods  9.025000e+08   \n4   123     2     True       True      True  Shahrake Gharb  7.000000e+09   \n\n      Price(USD)  \n0  102777.783333  \n1  102777.783333  \n2   30555.550000  \n3   50138.883333  \n4  388888.883333  ",
      "text/html": "<div>\n<style scoped>\n    .dataframe tbody tr th:only-of-type {\n        vertical-align: middle;\n    }\n\n    .dataframe tbody tr th {\n        vertical-align: top;\n    }\n\n    .dataframe thead th {\n        text-align: right;\n    }\n</style>\n<table border=\"1\" class=\"dataframe\">\n  <thead>\n    <tr style=\"text-align: right;\">\n      <th></th>\n      <th>Area</th>\n      <th>Room</th>\n      <th>Parking</th>\n      <th>Warehouse</th>\n      <th>Elevator</th>\n      <th>Address</th>\n      <th>Price</th>\n      <th>Price(USD)</th>\n    </tr>\n  </thead>\n  <tbody>\n    <tr>\n      <th>0</th>\n      <td>63</td>\n      <td>1</td>\n      <td>True</td>\n      <td>True</td>\n      <td>True</td>\n      <td>Shahran</td>\n      <td>1.850000e+09</td>\n      <td>102777.783333</td>\n    </tr>\n    <tr>\n      <th>1</th>\n      <td>60</td>\n      <td>1</td>\n      <td>True</td>\n      <td>True</td>\n      <td>True</td>\n      <td>Shahran</td>\n      <td>1.850000e+09</td>\n      <td>102777.783333</td>\n    </tr>\n    <tr>\n      <th>2</th>\n      <td>79</td>\n      <td>2</td>\n      <td>True</td>\n      <td>True</td>\n      <td>True</td>\n      <td>Pardis</td>\n      <td>5.500000e+08</td>\n      <td>30555.550000</td>\n    </tr>\n    <tr>\n      <th>3</th>\n      <td>95</td>\n      <td>2</td>\n      <td>True</td>\n      <td>True</td>\n      <td>True</td>\n      <td>Shahrake Qods</td>\n      <td>9.025000e+08</td>\n      <td>50138.883333</td>\n    </tr>\n    <tr>\n      <th>4</th>\n      <td>123</td>\n      <td>2</td>\n      <td>True</td>\n      <td>True</td>\n      <td>True</td>\n      <td>Shahrake Gharb</td>\n      <td>7.000000e+09</td>\n      <td>388888.883333</td>\n    </tr>\n  </tbody>\n</table>\n</div>"
     },
     "execution_count": 6,
     "metadata": {},
     "output_type": "execute_result"
    }
   ],
   "source": [
    "data['Price(USD)'] = data['Price(USD)'] * (50 / 30)\n",
    "data.head()"
   ],
   "metadata": {
    "collapsed": false,
    "ExecuteTime": {
     "end_time": "2023-11-26T14:57:50.781621208Z",
     "start_time": "2023-11-26T14:57:50.763935031Z"
    }
   },
   "id": "ed45aeb74e558694"
  },
  {
   "cell_type": "markdown",
   "source": [
    "## Convert every non-number feature to number "
   ],
   "metadata": {
    "collapsed": false
   },
   "id": "c41ae64cd9e550f0"
  },
  {
   "cell_type": "code",
   "execution_count": 7,
   "outputs": [
    {
     "data": {
      "text/plain": "   Area  Room  Parking  Warehouse  Elevator         Address         Price  \\\n0    63     1        1          1         1         Shahran  1.850000e+09   \n1    60     1        1          1         1         Shahran  1.850000e+09   \n2    79     2        1          1         1          Pardis  5.500000e+08   \n3    95     2        1          1         1   Shahrake Qods  9.025000e+08   \n4   123     2        1          1         1  Shahrake Gharb  7.000000e+09   \n\n      Price(USD)  \n0  102777.783333  \n1  102777.783333  \n2   30555.550000  \n3   50138.883333  \n4  388888.883333  ",
      "text/html": "<div>\n<style scoped>\n    .dataframe tbody tr th:only-of-type {\n        vertical-align: middle;\n    }\n\n    .dataframe tbody tr th {\n        vertical-align: top;\n    }\n\n    .dataframe thead th {\n        text-align: right;\n    }\n</style>\n<table border=\"1\" class=\"dataframe\">\n  <thead>\n    <tr style=\"text-align: right;\">\n      <th></th>\n      <th>Area</th>\n      <th>Room</th>\n      <th>Parking</th>\n      <th>Warehouse</th>\n      <th>Elevator</th>\n      <th>Address</th>\n      <th>Price</th>\n      <th>Price(USD)</th>\n    </tr>\n  </thead>\n  <tbody>\n    <tr>\n      <th>0</th>\n      <td>63</td>\n      <td>1</td>\n      <td>1</td>\n      <td>1</td>\n      <td>1</td>\n      <td>Shahran</td>\n      <td>1.850000e+09</td>\n      <td>102777.783333</td>\n    </tr>\n    <tr>\n      <th>1</th>\n      <td>60</td>\n      <td>1</td>\n      <td>1</td>\n      <td>1</td>\n      <td>1</td>\n      <td>Shahran</td>\n      <td>1.850000e+09</td>\n      <td>102777.783333</td>\n    </tr>\n    <tr>\n      <th>2</th>\n      <td>79</td>\n      <td>2</td>\n      <td>1</td>\n      <td>1</td>\n      <td>1</td>\n      <td>Pardis</td>\n      <td>5.500000e+08</td>\n      <td>30555.550000</td>\n    </tr>\n    <tr>\n      <th>3</th>\n      <td>95</td>\n      <td>2</td>\n      <td>1</td>\n      <td>1</td>\n      <td>1</td>\n      <td>Shahrake Qods</td>\n      <td>9.025000e+08</td>\n      <td>50138.883333</td>\n    </tr>\n    <tr>\n      <th>4</th>\n      <td>123</td>\n      <td>2</td>\n      <td>1</td>\n      <td>1</td>\n      <td>1</td>\n      <td>Shahrake Gharb</td>\n      <td>7.000000e+09</td>\n      <td>388888.883333</td>\n    </tr>\n  </tbody>\n</table>\n</div>"
     },
     "execution_count": 7,
     "metadata": {},
     "output_type": "execute_result"
    }
   ],
   "source": [
    "data['Parking'].replace([True, False], [1, 0], inplace=True)\n",
    "data['Warehouse'].replace([True, False], [1, 0], inplace=True)\n",
    "data['Elevator'].replace([True, False], [1, 0], inplace=True)\n",
    "data.head()"
   ],
   "metadata": {
    "collapsed": false,
    "ExecuteTime": {
     "end_time": "2023-11-26T14:57:51.313727952Z",
     "start_time": "2023-11-26T14:57:51.304864226Z"
    }
   },
   "id": "d69df522c5d551c9"
  },
  {
   "cell_type": "markdown",
   "source": [
    "### Show the address of the 5 most expensive houses"
   ],
   "metadata": {
    "collapsed": false
   },
   "id": "3fcb8eaf6f6120e2"
  },
  {
   "cell_type": "code",
   "execution_count": 8,
   "outputs": [
    {
     "data": {
      "text/plain": "         Address         Price\n1606  Zaferanieh  9.240000e+10\n1704      Abazar  9.100000e+10\n405      Lavasan  8.500000e+10\n770   Ekhtiarieh  8.160000e+10\n1249    Niavaran  8.050000e+10",
      "text/html": "<div>\n<style scoped>\n    .dataframe tbody tr th:only-of-type {\n        vertical-align: middle;\n    }\n\n    .dataframe tbody tr th {\n        vertical-align: top;\n    }\n\n    .dataframe thead th {\n        text-align: right;\n    }\n</style>\n<table border=\"1\" class=\"dataframe\">\n  <thead>\n    <tr style=\"text-align: right;\">\n      <th></th>\n      <th>Address</th>\n      <th>Price</th>\n    </tr>\n  </thead>\n  <tbody>\n    <tr>\n      <th>1606</th>\n      <td>Zaferanieh</td>\n      <td>9.240000e+10</td>\n    </tr>\n    <tr>\n      <th>1704</th>\n      <td>Abazar</td>\n      <td>9.100000e+10</td>\n    </tr>\n    <tr>\n      <th>405</th>\n      <td>Lavasan</td>\n      <td>8.500000e+10</td>\n    </tr>\n    <tr>\n      <th>770</th>\n      <td>Ekhtiarieh</td>\n      <td>8.160000e+10</td>\n    </tr>\n    <tr>\n      <th>1249</th>\n      <td>Niavaran</td>\n      <td>8.050000e+10</td>\n    </tr>\n  </tbody>\n</table>\n</div>"
     },
     "execution_count": 8,
     "metadata": {},
     "output_type": "execute_result"
    }
   ],
   "source": [
    "sorted_df = data.sort_values(by='Price', ascending=False)\n",
    "top_5_expensive_houses = sorted_df.head(5)\n",
    "top_5_expensive_houses = top_5_expensive_houses[['Address', 'Price']]\n",
    "top_5_expensive_houses"
   ],
   "metadata": {
    "collapsed": false,
    "ExecuteTime": {
     "end_time": "2023-11-26T14:57:51.908328399Z",
     "start_time": "2023-11-26T14:57:51.897182682Z"
    }
   },
   "id": "2973244e5f243ae3"
  },
  {
   "cell_type": "code",
   "execution_count": 9,
   "outputs": [
    {
     "data": {
      "text/plain": "<Figure size 1000x600 with 1 Axes>",
      "image/png": "[encoded data removed]"
     },
     "metadata": {},
     "output_type": "display_data"
    }
   ],
   "source": [
    "plt.figure(figsize=(10, 6))\n",
    "plt.bar(top_5_expensive_houses['Address'], top_5_expensive_houses['Price'], color='green')\n",
    "plt.xlabel('Address')\n",
    "plt.ylabel('Price')\n",
    "plt.title('Top 5 Most Expensive Houses')\n",
    "plt.xticks(rotation=45, ha='right')\n",
    "plt.show()"
   ],
   "metadata": {
    "collapsed": false,
    "ExecuteTime": {
     "end_time": "2023-11-26T14:57:52.320434301Z",
     "start_time": "2023-11-26T14:57:52.208934412Z"
    }
   },
   "id": "9f76690d8ac63144"
  },
  {
   "cell_type": "markdown",
   "source": [
    "## Use all possible features for X_train"
   ],
   "metadata": {
    "collapsed": false
   },
   "id": "615e561922c13b1"
  },
  {
   "cell_type": "code",
   "execution_count": 10,
   "outputs": [
    {
     "data": {
      "text/plain": "                Area      Room   Parking  Warehouse  Elevator     Price  \\\nArea        1.000000  0.670121  0.200009   0.072364  0.047034  0.720935   \nRoom        0.670121  1.000000  0.278743   0.125894  0.181826  0.569738   \nParking     0.200009  0.278743  1.000000   0.429241  0.428801  0.193761   \nWarehouse   0.072364  0.125894  0.429241   1.000000  0.205098  0.109370   \nElevator    0.047034  0.181826  0.428801   0.205098  1.000000  0.110310   \nPrice       0.720935  0.569738  0.193761   0.109370  0.110310  1.000000   \nPrice(USD)  0.720935  0.569738  0.193761   0.109370  0.110310  1.000000   \n\n            Price(USD)  \nArea          0.720935  \nRoom          0.569738  \nParking       0.193761  \nWarehouse     0.109370  \nElevator      0.110310  \nPrice         1.000000  \nPrice(USD)    1.000000  ",
      "text/html": "<div>\n<style scoped>\n    .dataframe tbody tr th:only-of-type {\n        vertical-align: middle;\n    }\n\n    .dataframe tbody tr th {\n        vertical-align: top;\n    }\n\n    .dataframe thead th {\n        text-align: right;\n    }\n</style>\n<table border=\"1\" class=\"dataframe\">\n  <thead>\n    <tr style=\"text-align: right;\">\n      <th></th>\n      <th>Area</th>\n      <th>Room</th>\n      <th>Parking</th>\n      <th>Warehouse</th>\n      <th>Elevator</th>\n      <th>Price</th>\n      <th>Price(USD)</th>\n    </tr>\n  </thead>\n  <tbody>\n    <tr>\n      <th>Area</th>\n      <td>1.000000</td>\n      <td>0.670121</td>\n      <td>0.200009</td>\n      <td>0.072364</td>\n      <td>0.047034</td>\n      <td>0.720935</td>\n      <td>0.720935</td>\n    </tr>\n    <tr>\n      <th>Room</th>\n      <td>0.670121</td>\n      <td>1.000000</td>\n      <td>0.278743</td>\n      <td>0.125894</td>\n      <td>0.181826</td>\n      <td>0.569738</td>\n      <td>0.569738</td>\n    </tr>\n    <tr>\n      <th>Parking</th>\n      <td>0.200009</td>\n      <td>0.278743</td>\n      <td>1.000000</td>\n      <td>0.429241</td>\n      <td>0.428801</td>\n      <td>0.193761</td>\n      <td>0.193761</td>\n    </tr>\n    <tr>\n      <th>Warehouse</th>\n      <td>0.072364</td>\n      <td>0.125894</td>\n      <td>0.429241</td>\n      <td>1.000000</td>\n      <td>0.205098</td>\n      <td>0.109370</td>\n      <td>0.109370</td>\n    </tr>\n    <tr>\n      <th>Elevator</th>\n      <td>0.047034</td>\n      <td>0.181826</td>\n      <td>0.428801</td>\n      <td>0.205098</td>\n      <td>1.000000</td>\n      <td>0.110310</td>\n      <td>0.110310</td>\n    </tr>\n    <tr>\n      <th>Price</th>\n      <td>0.720935</td>\n      <td>0.569738</td>\n      <td>0.193761</td>\n      <td>0.109370</td>\n      <td>0.110310</td>\n      <td>1.000000</td>\n      <td>1.000000</td>\n    </tr>\n    <tr>\n      <th>Price(USD)</th>\n      <td>0.720935</td>\n      <td>0.569738</td>\n      <td>0.193761</td>\n      <td>0.109370</td>\n      <td>0.110310</td>\n      <td>1.000000</td>\n      <td>1.000000</td>\n    </tr>\n  </tbody>\n</table>\n</div>"
     },
     "execution_count": 10,
     "metadata": {},
     "output_type": "execute_result"
    }
   ],
   "source": [
    "data.drop(['Address'], inplace=True, axis=1)\n",
    "data.corr()"
   ],
   "metadata": {
    "collapsed": false,
    "ExecuteTime": {
     "end_time": "2023-11-26T14:57:53.084894166Z",
     "start_time": "2023-11-26T14:57:53.078635704Z"
    }
   },
   "id": "22dd054a135efd8b"
  },
  {
   "cell_type": "code",
   "execution_count": 11,
   "outputs": [
    {
     "data": {
      "text/plain": "   Area  Room  Parking  Warehouse  Elevator         Price     Price(USD)\n0    63     1        1          1         1  1.850000e+09  102777.783333\n1    60     1        1          1         1  1.850000e+09  102777.783333\n2    79     2        1          1         1  5.500000e+08   30555.550000\n3    95     2        1          1         1  9.025000e+08   50138.883333\n4   123     2        1          1         1  7.000000e+09  388888.883333",
      "text/html": "<div>\n<style scoped>\n    .dataframe tbody tr th:only-of-type {\n        vertical-align: middle;\n    }\n\n    .dataframe tbody tr th {\n        vertical-align: top;\n    }\n\n    .dataframe thead th {\n        text-align: right;\n    }\n</style>\n<table border=\"1\" class=\"dataframe\">\n  <thead>\n    <tr style=\"text-align: right;\">\n      <th></th>\n      <th>Area</th>\n      <th>Room</th>\n      <th>Parking</th>\n      <th>Warehouse</th>\n      <th>Elevator</th>\n      <th>Price</th>\n      <th>Price(USD)</th>\n    </tr>\n  </thead>\n  <tbody>\n    <tr>\n      <th>0</th>\n      <td>63</td>\n      <td>1</td>\n      <td>1</td>\n      <td>1</td>\n      <td>1</td>\n      <td>1.850000e+09</td>\n      <td>102777.783333</td>\n    </tr>\n    <tr>\n      <th>1</th>\n      <td>60</td>\n      <td>1</td>\n      <td>1</td>\n      <td>1</td>\n      <td>1</td>\n      <td>1.850000e+09</td>\n      <td>102777.783333</td>\n    </tr>\n    <tr>\n      <th>2</th>\n      <td>79</td>\n      <td>2</td>\n      <td>1</td>\n      <td>1</td>\n      <td>1</td>\n      <td>5.500000e+08</td>\n      <td>30555.550000</td>\n    </tr>\n    <tr>\n      <th>3</th>\n      <td>95</td>\n      <td>2</td>\n      <td>1</td>\n      <td>1</td>\n      <td>1</td>\n      <td>9.025000e+08</td>\n      <td>50138.883333</td>\n    </tr>\n    <tr>\n      <th>4</th>\n      <td>123</td>\n      <td>2</td>\n      <td>1</td>\n      <td>1</td>\n      <td>1</td>\n      <td>7.000000e+09</td>\n      <td>388888.883333</td>\n    </tr>\n  </tbody>\n</table>\n</div>"
     },
     "execution_count": 11,
     "metadata": {},
     "output_type": "execute_result"
    }
   ],
   "source": [
    "data.head()"
   ],
   "metadata": {
    "collapsed": false,
    "ExecuteTime": {
     "end_time": "2023-11-26T14:57:53.447973930Z",
     "start_time": "2023-11-26T14:57:53.437126055Z"
    }
   },
   "id": "625e345e31e04ff4"
  },
  {
   "cell_type": "code",
   "execution_count": 12,
   "outputs": [],
   "source": [
    "X = np.array([data['Area'], data['Room'], data['Parking']]).T\n",
    "Y = np.array(data['Price'])"
   ],
   "metadata": {
    "collapsed": false,
    "ExecuteTime": {
     "end_time": "2023-11-26T14:57:53.823778052Z",
     "start_time": "2023-11-26T14:57:53.817888255Z"
    }
   },
   "id": "5cf19862c60882ef"
  },
  {
   "cell_type": "markdown",
   "source": [
    "## Split our dataset to train and test with train_test_split function"
   ],
   "metadata": {
    "collapsed": false
   },
   "id": "362cbcbad7b3be63"
  },
  {
   "cell_type": "code",
   "execution_count": 13,
   "outputs": [
    {
     "name": "stdout",
     "output_type": "stream",
     "text": [
      "x_train shape is (2593, 3)\n",
      "x_test shape is (649, 3)\n",
      "y_train shape is (2593,)\n",
      "y_test shape is (649,)\n"
     ]
    }
   ],
   "source": [
    "x_train, x_test, y_train, y_test = train_test_split(X, Y)\n",
    "\n",
    "print(f'x_train shape is {x_train.shape}')\n",
    "print(f'x_test shape is {x_test.shape}')\n",
    "print(f'y_train shape is {y_train.shape}')\n",
    "print(f'y_test shape is {y_test.shape}')\n"
   ],
   "metadata": {
    "collapsed": false,
    "ExecuteTime": {
     "end_time": "2023-11-26T14:57:54.892195020Z",
     "start_time": "2023-11-26T14:57:54.871978481Z"
    }
   },
   "id": "4cd56992148887e0"
  },
  {
   "cell_type": "markdown",
   "source": [
    "## Fit the LLS model on our training dataset"
   ],
   "metadata": {
    "collapsed": false
   },
   "id": "8a012c5dc1a68b5a"
  },
  {
   "cell_type": "code",
   "execution_count": 14,
   "outputs": [],
   "source": [
    "lls = LinearLeastSquare()\n",
    "lls.fit(x_train, y_train)"
   ],
   "metadata": {
    "collapsed": false,
    "ExecuteTime": {
     "end_time": "2023-11-26T14:57:55.977226952Z",
     "start_time": "2023-11-26T14:57:55.966728766Z"
    }
   },
   "id": "69e381fbc681a018"
  },
  {
   "cell_type": "markdown",
   "source": [
    "## Evaluate our model on our test dataset using MAE, MSE and RMSE loss functions. Why the MSE metric is a very large number?"
   ],
   "metadata": {
    "collapsed": false
   },
   "id": "6c98c3b5f8161014"
  },
  {
   "cell_type": "code",
   "execution_count": 16,
   "outputs": [
    {
     "name": "stdout",
     "output_type": "stream",
     "text": [
      "mae loss is 3033215106.2707553, mse loss is 4.151350891079051e+19, rmse loss is 6443097772.872185\n"
     ]
    }
   ],
   "source": [
    "mae_loss = lls.evaluate(x_test, y_test, metric='mae')\n",
    "mse_loss = lls.evaluate(x_test, y_test, metric='mse')\n",
    "rmse_loss = lls.evaluate(x_test, y_test, metric='rmse')\n",
    "print(f'mae loss is {mae_loss}, mse loss is {mse_loss}, rmse loss is {rmse_loss}')"
   ],
   "metadata": {
    "collapsed": false,
    "ExecuteTime": {
     "end_time": "2023-11-26T14:58:01.279634548Z",
     "start_time": "2023-11-26T14:58:01.262975911Z"
    }
   },
   "id": "327a14be6c22eb4f"
  },
  {
   "cell_type": "markdown",
   "source": [
    "#### MSE is a large number because there is a square in its formula but no square in the other two formulas"
   ],
   "metadata": {
    "collapsed": false
   },
   "id": "56598b41a1805981"
  },
  {
   "cell_type": "markdown",
   "source": [
    "## Compare our result with Scikit-Learn's results"
   ],
   "metadata": {
    "collapsed": false
   },
   "id": "16ac7f9b627903cf"
  },
  {
   "cell_type": "markdown",
   "source": [
    "### RidegeCV"
   ],
   "metadata": {
    "collapsed": false
   },
   "id": "be1f0dc26ddcfa08"
  },
  {
   "cell_type": "code",
   "execution_count": 24,
   "outputs": [],
   "source": [
    "ridgecv_model = RidgeCV(alphas=tuple(np.logspace(-3, 0, num=4)))\n",
    "ridgecv_model.fit(x_train, y_train)\n",
    "y_pred_ridgcv = ridgecv_model.predict(x_test)\n",
    "mae_ridgcv = mean_absolute_error(y_test, y_pred_ridgcv)\n",
    "mse_ridgcv = mean_squared_error(y_test, y_pred_ridgcv)\n",
    "rmse_ridgcv = np.sqrt(mse_ridgcv)"
   ],
   "metadata": {
    "collapsed": false,
    "ExecuteTime": {
     "end_time": "2023-11-26T15:14:51.209806924Z",
     "start_time": "2023-11-26T15:14:51.171989676Z"
    }
   },
   "id": "9ed7af1c23ae454b"
  },
  {
   "cell_type": "markdown",
   "source": [
    "### LinearRegression"
   ],
   "metadata": {
    "collapsed": false
   },
   "id": "4b54396224a16317"
  },
  {
   "cell_type": "code",
   "execution_count": 25,
   "outputs": [],
   "source": [
    "linear_model = LinearRegression()\n",
    "linear_model.fit(x_train, y_train)\n",
    "Y_pred_linear = linear_model.predict(x_test)\n",
    "mae_linear = mean_absolute_error(y_test, Y_pred_linear)\n",
    "mse_linear = mean_squared_error(y_test, Y_pred_linear)\n",
    "rmse_linear = np.sqrt(mse_linear)"
   ],
   "metadata": {
    "collapsed": false,
    "ExecuteTime": {
     "end_time": "2023-11-26T15:14:52.081024896Z",
     "start_time": "2023-11-26T15:14:52.058242165Z"
    }
   },
   "id": "91fa40dfa26c11d1"
  },
  {
   "cell_type": "code",
   "execution_count": 28,
   "outputs": [
    {
     "name": "stdout",
     "output_type": "stream",
     "text": [
      "\n",
      "my mae loss is 3033215106.2707553, my mse loss is 4.151350891079051e+19, my rmse loss is 6443097772.872185\n",
      "\n",
      "RidegeCV mae loss is 2767883624.6276884, RidegeCV mse loss is 3.740635402617781e+19, RidegeCV rmse loss is 6116073415.695548\n",
      "\n",
      "LinearRegression mae loss is 2768052546.693797, LinearRegression mse loss is 3.740361968715422e+19, LinearRegression rmse loss is 6115849874.478135\n"
     ]
    }
   ],
   "source": [
    "print(f'\\nmy mae loss is {mae_loss}, my mse loss is {mse_loss}, my rmse loss is {rmse_loss}\\n')\n",
    "print(f'RidegeCV mae loss is {mae_ridgcv}, RidegeCV mse loss is {mse_ridgcv}, RidegeCV rmse loss is {rmse_ridgcv}\\n')\n",
    "print(\n",
    "    f'LinearRegression mae loss is {mae_linear}, LinearRegression mse loss is {mse_linear}, LinearRegression rmse loss is {rmse_linear}\\n')"
   ],
   "metadata": {
    "collapsed": false,
    "ExecuteTime": {
     "end_time": "2023-11-26T15:17:32.371727583Z",
     "start_time": "2023-11-26T15:17:32.359420319Z"
    }
   },
   "id": "60460b5d8dd97793"
  },
  {
   "cell_type": "code",
   "execution_count": null,
   "outputs": [],
   "source": [],
   "metadata": {
    "collapsed": false
   },
   "id": "5d600cea4b23cb5d"
  }
 ],
 "metadata": {
  "kernelspec": {
   "display_name": "Python 3",
   "language": "python",
   "name": "python3"
  },
  "language_info": {
   "codemirror_mode": {
    "name": "ipython",
    "version": 2
   },
   "file_extension": ".py",
   "mimetype": "text/x-python",
   "name": "python",
   "nbconvert_exporter": "python",
   "pygments_lexer": "ipython2",
   "version": "2.7.6"
  }
 },
 "nbformat": 4,
 "nbformat_minor": 5
}
